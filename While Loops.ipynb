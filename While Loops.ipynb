{
 "cells": [
  {
   "cell_type": "markdown",
   "id": "1c789b0a-8a6b-4e80-8968-93095758e9d1",
   "metadata": {
    "tags": []
   },
   "source": [
    "# While Loops\n",
    "\n",
    "#### With the while loop we can execute a set of statements as long as a condition is true.\n",
    "\n",
    "<u>1. While Loop:</u>\n",
    "* Iteration: A While Loop iterates over a sequence as long as a specific condition is met.\n",
    "* Control Flow: It keeps iterating through the sequence as long as the given condition remains true. Once the condition becomes false, the loop stops, and the code moves to the next part after the loop.\n",
    "\n",
    "vs.\n",
    "\n",
    "<u>2. For Loop:</u>\n",
    "* Iteration: A For Loop iterates over the entire sequence (e.g., a list, tuple, range) regardless of any condition.\n",
    "* Control Flow: It goes through each element in the sequence one by one, executing the code block associated with the loop for each element."
   ]
  },
  {
   "cell_type": "code",
   "execution_count": 9,
   "id": "8187c162-0ebe-4d50-8f15-68d7e71af07f",
   "metadata": {
    "tags": []
   },
   "outputs": [
    {
     "name": "stdout",
     "output_type": "stream",
     "text": [
      "1\n",
      "2\n",
      "3\n",
      "4\n",
      "5\n"
     ]
    }
   ],
   "source": [
    "# Print i as long as i is less than 6:\n",
    "\n",
    "a = 1\n",
    "while a < 6:\n",
    "  print(a)\n",
    "  a += 1"
   ]
  },
  {
   "cell_type": "markdown",
   "id": "8ae30f80-73e0-4d93-9e21-0e3998088a09",
   "metadata": {
    "tags": []
   },
   "source": [
    "#### The while loop is explained as follows:\n",
    "\n",
    "1. Variable 'a' is assigned to the value of 1\n",
    "2. Start a while loop: The loop will continuously execute as long as the condition 'a < 6' is true\n",
    "3. Inside the Loop: <br>\n",
    "    3a. print(a): Print the current value of 'a' <br>\n",
    "    3b. a += 1: Increment the value of 'a' by 1\n",
    "4. The loop goes back to the condition: <br>\n",
    "    4a. If 'a' is still less than 6,  it continues the next iteration. <br>\n",
    "    4b. If 'a' becomes 6 or greater, the condition becomes false, and the loop exits. "
   ]
  },
  {
   "cell_type": "markdown",
   "id": "e8e96398-a7a7-4f2d-8b83-8ea7509d4694",
   "metadata": {},
   "source": [
    "### The break Statement"
   ]
  },
  {
   "cell_type": "code",
   "execution_count": 10,
   "id": "938bc11f-68af-41d2-909a-aa0fd81b9190",
   "metadata": {},
   "outputs": [
    {
     "name": "stdout",
     "output_type": "stream",
     "text": [
      "1\n",
      "2\n",
      "3\n"
     ]
    }
   ],
   "source": [
    "# With the break statement we can stop the loop even if the while condition is true:\n",
    "\n",
    "# Exit the loop when a is 3:\n",
    "\n",
    "a = 1\n",
    "while a < 6:\n",
    "    print(a)\n",
    "    if a == 3:\n",
    "        break\n",
    "    a += 1"
   ]
  },
  {
   "cell_type": "markdown",
   "id": "91ae637c-aedf-4853-95a7-0fff2f5dfb46",
   "metadata": {},
   "source": [
    "### The continue Statement"
   ]
  },
  {
   "cell_type": "code",
   "execution_count": 11,
   "id": "61d22556-96d6-40df-b874-ba554a071a40",
   "metadata": {
    "tags": []
   },
   "outputs": [
    {
     "name": "stdout",
     "output_type": "stream",
     "text": [
      "1\n",
      "2\n",
      "4\n",
      "5\n",
      "6\n"
     ]
    }
   ],
   "source": [
    "# With the continue statement we can stop the current iteration, and continue with the next:\n",
    "\n",
    "# Continue to the next iteration if i is 3:\n",
    "\n",
    "a = 0\n",
    "while a < 6:\n",
    "    a += 1\n",
    "    if a == 3:\n",
    "        continue\n",
    "    print(a)"
   ]
  },
  {
   "cell_type": "markdown",
   "id": "7f1911f2-9291-4905-ab60-938410e2d6d1",
   "metadata": {},
   "source": [
    "### The else Statement"
   ]
  },
  {
   "cell_type": "code",
   "execution_count": 12,
   "id": "92cc09b2-1d7e-4a64-9704-8fa64c198755",
   "metadata": {
    "tags": []
   },
   "outputs": [
    {
     "name": "stdout",
     "output_type": "stream",
     "text": [
      "1\n",
      "2\n",
      "3\n",
      "4\n",
      "5\n",
      "a is no longer less than 6\n"
     ]
    }
   ],
   "source": [
    "# With the else statement we can run a block of code once when the condition no longer is true:\n",
    "\n",
    "# Print a message once the condition is false:\n",
    "\n",
    "a = 1\n",
    "while a < 6:\n",
    "    print(a)\n",
    "    a += 1\n",
    "else:\n",
    "    print('a is no longer less than 6')"
   ]
  }
 ],
 "metadata": {
  "kernelspec": {
   "display_name": "Python 3 (ipykernel)",
   "language": "python",
   "name": "python3"
  },
  "language_info": {
   "codemirror_mode": {
    "name": "ipython",
    "version": 3
   },
   "file_extension": ".py",
   "mimetype": "text/x-python",
   "name": "python",
   "nbconvert_exporter": "python",
   "pygments_lexer": "ipython3",
   "version": "3.10.8"
  }
 },
 "nbformat": 4,
 "nbformat_minor": 5
}
