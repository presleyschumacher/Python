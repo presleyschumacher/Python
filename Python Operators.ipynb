{
 "cells": [
  {
   "cell_type": "markdown",
   "id": "4d69919d-ab96-4fa7-bed5-f5ccf434c198",
   "metadata": {},
   "source": [
    "# Python Operators"
   ]
  },
  {
   "cell_type": "markdown",
   "id": "ea7e1d80-893b-4601-b94e-6eb141d7be49",
   "metadata": {},
   "source": [
    "## Comparison Operators\n",
    "### Comparison operators are used to compare two values"
   ]
  },
  {
   "cell_type": "markdown",
   "id": "75f21f47-87b5-4347-895a-bb4b47cd0ea7",
   "metadata": {},
   "source": [
    "| Operator | Name                     |\n",
    "|:--------:|:------------------------:|\n",
    "|  ==      |  Equal                   |\n",
    "|  !=      | Not Equal                |\n",
    "|  >       | Great Than               |\n",
    "|  <       | Less Than                | \n",
    "|  >=      | Greater than or equal to |\n",
    "|  <=      | Less than or equal to    |"
   ]
  },
  {
   "cell_type": "markdown",
   "id": "2a9e6e91-1a4f-4a65-906b-3fb11306b490",
   "metadata": {
    "tags": []
   },
   "source": [
    "##### Examples:"
   ]
  },
  {
   "cell_type": "code",
   "execution_count": 1,
   "id": "e098e2b0-92bd-4b33-b9f4-fdbec1d0e0ff",
   "metadata": {
    "tags": []
   },
   "outputs": [
    {
     "data": {
      "text/plain": [
       "True"
      ]
     },
     "execution_count": 1,
     "metadata": {},
     "output_type": "execute_result"
    }
   ],
   "source": [
    "10 == 10"
   ]
  },
  {
   "cell_type": "code",
   "execution_count": 2,
   "id": "c043e40a-468d-4fb0-b564-0172a7a0f54d",
   "metadata": {
    "tags": []
   },
   "outputs": [
    {
     "data": {
      "text/plain": [
       "False"
      ]
     },
     "execution_count": 2,
     "metadata": {},
     "output_type": "execute_result"
    }
   ],
   "source": [
    "10 == 50"
   ]
  },
  {
   "cell_type": "code",
   "execution_count": 3,
   "id": "b59d8c72-6867-49b6-90c5-a36c9cdb4109",
   "metadata": {
    "tags": []
   },
   "outputs": [
    {
     "data": {
      "text/plain": [
       "True"
      ]
     },
     "execution_count": 3,
     "metadata": {},
     "output_type": "execute_result"
    }
   ],
   "source": [
    "10 != 50"
   ]
  },
  {
   "cell_type": "code",
   "execution_count": 4,
   "id": "ed8b58dc-48c5-4113-914d-8a270859a5a3",
   "metadata": {
    "tags": []
   },
   "outputs": [
    {
     "data": {
      "text/plain": [
       "True"
      ]
     },
     "execution_count": 4,
     "metadata": {},
     "output_type": "execute_result"
    }
   ],
   "source": [
    "# Comparison operators also work on string variables:\n",
    "\n",
    "'chocolate' == 'chocolate'"
   ]
  },
  {
   "cell_type": "code",
   "execution_count": 5,
   "id": "2f09de39-a1c3-4ef5-8ae4-8c4f8050a594",
   "metadata": {
    "tags": []
   },
   "outputs": [
    {
     "data": {
      "text/plain": [
       "True"
      ]
     },
     "execution_count": 5,
     "metadata": {},
     "output_type": "execute_result"
    }
   ],
   "source": [
    "x = 'chocolate'\n",
    "y = 'vanilla'\n",
    "\n",
    "x != y"
   ]
  },
  {
   "cell_type": "markdown",
   "id": "3f838845-67d1-4d77-8fc1-d83705f0890d",
   "metadata": {},
   "source": [
    "## Logical Operators\n",
    "### Logical operators are used to combine conditional statements"
   ]
  },
  {
   "cell_type": "markdown",
   "id": "f3000a49-5753-4b00-8ff3-c69b935c14fd",
   "metadata": {
    "tags": []
   },
   "source": [
    "| Operator | Description              | Example       |\n",
    "|:--------:|:------------------------:|:--------------|\n",
    "|  and     | Returns True if both statements are true | x < 5 and  x < 10 |\n",
    "|  or      | Returns True if one of the statements is true| x < 5 or x < 4 |\n",
    "|  not     | Reverse the result, returns False if the result is true| not(x < 5 and x < 10)|"
   ]
  },
  {
   "cell_type": "markdown",
   "id": "c4cd2343-f66a-49ec-99eb-c81947dabde4",
   "metadata": {},
   "source": [
    "##### Examples:"
   ]
  },
  {
   "cell_type": "code",
   "execution_count": 13,
   "id": "14659fcd-01e7-408d-bdc8-247d1200f585",
   "metadata": {
    "tags": []
   },
   "outputs": [
    {
     "data": {
      "text/plain": [
       "False"
      ]
     },
     "execution_count": 13,
     "metadata": {},
     "output_type": "execute_result"
    }
   ],
   "source": [
    "# When using 'and', both statements are required to be true in order for the output to return a 'True'\n",
    "\n",
    "(10 > 50) and (50 > 10)"
   ]
  },
  {
   "cell_type": "code",
   "execution_count": 10,
   "id": "410730ff-f5d1-40c5-891e-d52d42e0be31",
   "metadata": {
    "tags": []
   },
   "outputs": [
    {
     "data": {
      "text/plain": [
       "True"
      ]
     },
     "execution_count": 10,
     "metadata": {},
     "output_type": "execute_result"
    }
   ],
   "source": [
    "(70 > 50) and (50 > 10)"
   ]
  },
  {
   "cell_type": "code",
   "execution_count": 18,
   "id": "79723d4e-5a4f-4f08-a56a-88fd6ce352e8",
   "metadata": {
    "tags": []
   },
   "outputs": [
    {
     "data": {
      "text/plain": [
       "True"
      ]
     },
     "execution_count": 18,
     "metadata": {},
     "output_type": "execute_result"
    }
   ],
   "source": [
    "# When using 'or', only one statement is required to be true in order for the output to return 'True'\n",
    "\n",
    "(10 > 50) or (50 > 10)"
   ]
  },
  {
   "cell_type": "code",
   "execution_count": 17,
   "id": "20443717-5360-41b9-8d03-138ea4c80ad7",
   "metadata": {
    "tags": []
   },
   "outputs": [
    {
     "data": {
      "text/plain": [
       "True"
      ]
     },
     "execution_count": 17,
     "metadata": {},
     "output_type": "execute_result"
    }
   ],
   "source": [
    "# Logical operators also work on string variables:\n",
    "\n",
    "('Vanilla' > 'Chocolate') and (50 > 10)"
   ]
  },
  {
   "cell_type": "code",
   "execution_count": 19,
   "id": "91ea05aa-9350-41ca-abce-c1475d820a74",
   "metadata": {
    "tags": []
   },
   "outputs": [
    {
     "data": {
      "text/plain": [
       "False"
      ]
     },
     "execution_count": 19,
     "metadata": {},
     "output_type": "execute_result"
    }
   ],
   "source": [
    "# When using 'not', if the statement is True, the output will return 'False'\n",
    "\n",
    "not(50 > 10)"
   ]
  },
  {
   "cell_type": "markdown",
   "id": "80891f70-93b6-45e3-9751-751e889a7486",
   "metadata": {},
   "source": [
    "## Membership Operators\n",
    "### Membership operators are used to test if a sequence is presented in an object"
   ]
  },
  {
   "cell_type": "markdown",
   "id": "51a023be-f33f-4bd9-98e0-b70c611a3a10",
   "metadata": {},
   "source": [
    "| Operator | Description              | Example       |\n",
    "|:--------:|:------------------------:|:--------------|\n",
    "|  in      | Returns True if a sequence with the specified value is present in the object |x in y |\n",
    "|  not in  | Returns True if a sequence with the specified value is not present in the object|x not in y|"
   ]
  },
  {
   "cell_type": "markdown",
   "id": "2be8b0e1-9985-45b1-9a7c-0f3958f62371",
   "metadata": {},
   "source": [
    "##### Examples:"
   ]
  },
  {
   "cell_type": "code",
   "execution_count": 21,
   "id": "a0d8cd3e-709b-487b-b342-29791e6e86ac",
   "metadata": {
    "tags": []
   },
   "outputs": [
    {
     "data": {
      "text/plain": [
       "True"
      ]
     },
     "execution_count": 21,
     "metadata": {},
     "output_type": "execute_result"
    }
   ],
   "source": [
    "# First create a variable and assign it to a string value:\n",
    "\n",
    "ice_cream = 'I love chocolate ice cream'\n",
    "\n",
    "# Then search to see if 'love' is located in the string value:\n",
    "\n",
    "'love' in ice_cream"
   ]
  },
  {
   "cell_type": "code",
   "execution_count": 22,
   "id": "8b2bc3f9-508e-4522-9c1e-42069635c449",
   "metadata": {
    "tags": []
   },
   "outputs": [
    {
     "data": {
      "text/plain": [
       "False"
      ]
     },
     "execution_count": 22,
     "metadata": {},
     "output_type": "execute_result"
    }
   ],
   "source": [
    "# Create a list:\n",
    "\n",
    "scoops = [1,2,3,4,5]\n",
    "\n",
    "# Search to see if a value can be found within in the list:\n",
    "\n",
    "8 in scoops"
   ]
  }
 ],
 "metadata": {
  "kernelspec": {
   "display_name": "Python 3 (ipykernel)",
   "language": "python",
   "name": "python3"
  },
  "language_info": {
   "codemirror_mode": {
    "name": "ipython",
    "version": 3
   },
   "file_extension": ".py",
   "mimetype": "text/x-python",
   "name": "python",
   "nbconvert_exporter": "python",
   "pygments_lexer": "ipython3",
   "version": "3.10.8"
  }
 },
 "nbformat": 4,
 "nbformat_minor": 5
}
