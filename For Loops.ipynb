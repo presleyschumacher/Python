{
 "cells": [
  {
   "cell_type": "markdown",
   "id": "e30365df-40db-456d-a806-a343b56fea8f",
   "metadata": {},
   "source": [
    "# For Loops\n",
    "\n",
    "#### A for loop is used for iterating over a sequence (this can be a list, tuple, a dictionary, a set, or a string).\n",
    "#### With the for loop we can execute a set of statements, once for each item in a list, tuple, set etc."
   ]
  },
  {
   "cell_type": "code",
   "execution_count": 2,
   "id": "bd283830-88b1-478a-878a-29505f69115c",
   "metadata": {
    "tags": []
   },
   "outputs": [
    {
     "name": "stdout",
     "output_type": "stream",
     "text": [
      "duck\n",
      "horse\n",
      "cow\n"
     ]
    }
   ],
   "source": [
    "# Print each animal in an animal list:\n",
    "\n",
    "animals = ['duck', 'horse', 'cow']\n",
    "for x in animals:\n",
    "    print(x)"
   ]
  },
  {
   "cell_type": "markdown",
   "id": "20548738-0af8-4fbb-8a01-e4080590ef6f",
   "metadata": {},
   "source": [
    "#### Looping through a Dictionary"
   ]
  },
  {
   "cell_type": "code",
   "execution_count": 12,
   "id": "67cbeb0b-c4b2-4cdd-9349-e0fa388ecd6d",
   "metadata": {
    "tags": []
   },
   "outputs": [
    {
     "name": "stdout",
     "output_type": "stream",
     "text": [
      "farm\n",
      "jungle\n",
      "ocean\n"
     ]
    }
   ],
   "source": [
    "# Create a dictionary:\n",
    "\n",
    "animals_dict = {'farm': 'pigs', 'jungle': 'monkey', 'ocean': 'fish'}\n",
    "\n",
    "# When looping dictionaries, it must be specified whether you want to pull the keys, values, or items within the dictionary.\n",
    "# Pull the keys:\n",
    "\n",
    "for x in animals_dict.keys():\n",
    "    print(x)"
   ]
  },
  {
   "cell_type": "code",
   "execution_count": 8,
   "id": "e71e26ac-d8ac-4456-a1a3-8c513f861c8d",
   "metadata": {
    "tags": []
   },
   "outputs": [
    {
     "name": "stdout",
     "output_type": "stream",
     "text": [
      "pigs\n",
      "monkey\n",
      "fish\n"
     ]
    }
   ],
   "source": [
    "# Pull the values:\n",
    "\n",
    "for x in animals_dict.values():\n",
    "    print(x)"
   ]
  },
  {
   "cell_type": "code",
   "execution_count": 11,
   "id": "3e9f9740-1b8d-4851-b4e3-77e5b34e265a",
   "metadata": {
    "tags": []
   },
   "outputs": [
    {
     "name": "stdout",
     "output_type": "stream",
     "text": [
      "farm -> pigs\n",
      "jungle -> monkey\n",
      "ocean -> fish\n"
     ]
    }
   ],
   "source": [
    "# Pull keys and values of the dictionary at the same time:\n",
    "\n",
    "for key, value in animals_dict.items():\n",
    "    print(key, '->', value)"
   ]
  },
  {
   "cell_type": "markdown",
   "id": "2c253f94-59e0-4db4-9629-6e0302f3e3f8",
   "metadata": {},
   "source": [
    "### Nested For Loops"
   ]
  },
  {
   "cell_type": "code",
   "execution_count": 14,
   "id": "080019cf-1d31-4a48-92ac-f460dc3bdf5d",
   "metadata": {
    "tags": []
   },
   "outputs": [
    {
     "name": "stdout",
     "output_type": "stream",
     "text": [
      "pigs live at/in a farm\n",
      "pigs live at/in a jungle\n",
      "pigs live at/in a ocean\n",
      "monkey live at/in a farm\n",
      "monkey live at/in a jungle\n",
      "monkey live at/in a ocean\n",
      "fish live at/in a farm\n",
      "fish live at/in a jungle\n",
      "fish live at/in a ocean\n"
     ]
    }
   ],
   "source": [
    "# First create 2 lists:\n",
    "\n",
    "animals = ['pigs', 'monkey', 'fish']\n",
    "habitats = ['farm', 'jungle', 'ocean']\n",
    "\n",
    "# The first loop (for on in animals) itertes over each element in the 'animals' list\n",
    "# For each element in the 'animals' list, the inner loop (for two in habitats)  iterates over each element in the habitats list.\n",
    "# Inside the inner loop, the print statement prints the current animal (one) and its corresponding habitat (two)\n",
    "# This process continues until all combinations of animals and habitats have been printed.\n",
    "\n",
    "for one in animals:\n",
    "    for two in habitats:\n",
    "        print(one, 'live at/in a', two)"
   ]
  },
  {
   "cell_type": "markdown",
   "id": "6d3718a9-7e40-41c5-a780-762b7614f97d",
   "metadata": {},
   "source": [
    "### The break Statement"
   ]
  },
  {
   "cell_type": "code",
   "execution_count": 15,
   "id": "cf0ef65b-a4cc-4c04-9185-d99bf2ca1675",
   "metadata": {
    "tags": []
   },
   "outputs": [
    {
     "name": "stdout",
     "output_type": "stream",
     "text": [
      "pigs\n",
      "monkey\n"
     ]
    }
   ],
   "source": [
    "# Exit the loop when x is 'monkey':\n",
    "\n",
    "animals = ['pigs', 'monkey', 'fish']\n",
    "for x in animals:\n",
    "    print(x)\n",
    "    if x == 'monkey':\n",
    "        break"
   ]
  },
  {
   "cell_type": "code",
   "execution_count": 17,
   "id": "d3c39ee2-cd7f-4464-84b4-a9c8c2055889",
   "metadata": {
    "tags": []
   },
   "outputs": [
    {
     "name": "stdout",
     "output_type": "stream",
     "text": [
      "pigs\n"
     ]
    }
   ],
   "source": [
    "# Exit the loop when x is 'monkey' but this time the break comes before the print, or before x is printed\n",
    "\n",
    "animals = ['pigs', 'monkey', 'fish']\n",
    "for x in animals:\n",
    "    if x == 'monkey':\n",
    "        break\n",
    "    print(x)"
   ]
  },
  {
   "cell_type": "markdown",
   "id": "96e45c1a-b96d-49c1-9bbe-37dfec01a1ed",
   "metadata": {},
   "source": [
    "### The continue Statement"
   ]
  },
  {
   "cell_type": "code",
   "execution_count": 19,
   "id": "2386a1a7-460c-433a-8d2b-e5f87abb6307",
   "metadata": {
    "tags": []
   },
   "outputs": [
    {
     "name": "stdout",
     "output_type": "stream",
     "text": [
      "pigs\n",
      "fish\n"
     ]
    }
   ],
   "source": [
    "# The 'continue' statement skips the rest of the code insidethe loop for the current iteration and moves on to the next iteration\n",
    "# When 'monkey' is encountered, the 'print(x)' statement is skipped for that particular iteration and the loop proceeds to the next element in the list\n",
    "\n",
    "# Do not print 'monkey':\n",
    "\n",
    "animals = ['pigs', 'monkey', 'fish']\n",
    "for x in animals:\n",
    "    if x == 'monkey':\n",
    "        continue\n",
    "    print(x)\n"
   ]
  },
  {
   "cell_type": "markdown",
   "id": "7bb75fbd-9a6f-4085-9b07-e61680102a73",
   "metadata": {},
   "source": [
    "### The range() Function"
   ]
  },
  {
   "cell_type": "code",
   "execution_count": 27,
   "id": "b3e3b07e-8dab-45b0-bc03-21022bda7794",
   "metadata": {
    "tags": []
   },
   "outputs": [
    {
     "name": "stdout",
     "output_type": "stream",
     "text": [
      "0\n",
      "1\n",
      "2\n",
      "3\n",
      "4\n"
     ]
    }
   ],
   "source": [
    "# To loop through a set of code a specified number of times, we can use the range() function,\n",
    "# The range() function returns a sequence of numbers, starting from 0 by default, and increments by 1 (by default), and ends at a specified numbe\n",
    "\n",
    "# Using the range() function:\n",
    "\n",
    "for x in range(5):\n",
    "    print(x)"
   ]
  },
  {
   "cell_type": "code",
   "execution_count": 21,
   "id": "ff503ba1-b1e9-47eb-9dfc-f6c4cd87f44a",
   "metadata": {
    "tags": []
   },
   "outputs": [
    {
     "name": "stdout",
     "output_type": "stream",
     "text": [
      "2\n",
      "3\n",
      "4\n",
      "5\n"
     ]
    }
   ],
   "source": [
    "# It is possible to specify the starting value by adding a parameter\n",
    "\n",
    "# range(2, 6), means values from 2 to 6 (but not including 6):\n",
    "\n",
    "for x in range(2, 6):\n",
    "    print(x)"
   ]
  },
  {
   "cell_type": "code",
   "execution_count": 22,
   "id": "135eb554-6276-4a04-891a-80471a004c18",
   "metadata": {
    "tags": []
   },
   "outputs": [
    {
     "name": "stdout",
     "output_type": "stream",
     "text": [
      "2\n",
      "5\n",
      "8\n",
      "11\n",
      "14\n",
      "17\n",
      "20\n",
      "23\n",
      "26\n",
      "29\n"
     ]
    }
   ],
   "source": [
    "# The range() function defaults to increment the sequence by 1, however it is possible to specify the increment value by adding a third parameter\n",
    "\n",
    "# Increment the sequence with 3 (default is 1):\n",
    "\n",
    "for x in range(2, 30, 3):\n",
    "    print(x)"
   ]
  },
  {
   "cell_type": "markdown",
   "id": "77a78958-aa4b-4ee7-b319-64861a81d8b4",
   "metadata": {},
   "source": [
    "### Else in For Loop"
   ]
  },
  {
   "cell_type": "code",
   "execution_count": 26,
   "id": "98c361f9-fde3-4955-bbef-e615c93c312e",
   "metadata": {
    "tags": []
   },
   "outputs": [
    {
     "name": "stdout",
     "output_type": "stream",
     "text": [
      "0\n",
      "1\n",
      "2\n",
      "3\n",
      "4\n",
      "5\n",
      "Finally Finished\n"
     ]
    }
   ],
   "source": [
    "# The else keyword in a for loop specifies a block of code to be executed when the loop is finished\n",
    "\n",
    "# Print all numbers from 0 to 5, and print a message when the loop has ended:\n",
    "\n",
    "for x in range(6):\n",
    "    print(x)\n",
    "else:\n",
    "    print('Finally Finished')"
   ]
  },
  {
   "cell_type": "markdown",
   "id": "09aaa98b-2001-4943-a507-e7e6d4683498",
   "metadata": {},
   "source": [
    "### The pass Statement"
   ]
  },
  {
   "cell_type": "code",
   "execution_count": 25,
   "id": "c2d114c6-9dfe-4f70-a809-9c35ba461ac2",
   "metadata": {
    "tags": []
   },
   "outputs": [],
   "source": [
    "# for loops cannot be empty, but if you for some reason have a for loop with no content, \n",
    "# put in the pass statement to avoid getting an error.\n",
    "\n",
    "for x in [0,1,2]:\n",
    "    pass"
   ]
  }
 ],
 "metadata": {
  "kernelspec": {
   "display_name": "Python 3 (ipykernel)",
   "language": "python",
   "name": "python3"
  },
  "language_info": {
   "codemirror_mode": {
    "name": "ipython",
    "version": 3
   },
   "file_extension": ".py",
   "mimetype": "text/x-python",
   "name": "python",
   "nbconvert_exporter": "python",
   "pygments_lexer": "ipython3",
   "version": "3.10.8"
  }
 },
 "nbformat": 4,
 "nbformat_minor": 5
}
