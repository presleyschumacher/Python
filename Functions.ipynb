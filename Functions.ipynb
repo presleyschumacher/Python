{
 "cells": [
  {
   "cell_type": "markdown",
   "id": "cb0b8af3-b21c-47fc-b04a-71aa0566a0d3",
   "metadata": {
    "tags": []
   },
   "source": [
    "# Functions in Python\n",
    "#### A function is a block of code which only runs when it is called\n",
    "#### Parameters are variables that are defined in the function definition. They are assigned the values which were passed as arguments when the function was called, elsewhere in the code."
   ]
  },
  {
   "cell_type": "markdown",
   "id": "dd4b84f8-ce5e-43a8-aa44-43f20e7630da",
   "metadata": {},
   "source": [
    "#### Creating a Function"
   ]
  },
  {
   "cell_type": "code",
   "execution_count": 9,
   "id": "e454f823-4b53-4eb0-bb21-e78a7b9bf46f",
   "metadata": {
    "tags": []
   },
   "outputs": [],
   "source": [
    "# In Python a function is defined using the def keyword:\n",
    "\n",
    "def my_function():\n",
    "  print('Hello from a function')"
   ]
  },
  {
   "cell_type": "markdown",
   "id": "2da490b1-5882-4ab8-9730-6d4306dc783c",
   "metadata": {},
   "source": [
    "#### Calling a Function"
   ]
  },
  {
   "cell_type": "code",
   "execution_count": 7,
   "id": "66f06465-baf3-4fce-bbed-d641e80e7e76",
   "metadata": {
    "tags": []
   },
   "outputs": [
    {
     "name": "stdout",
     "output_type": "stream",
     "text": [
      "Hello from a function\n"
     ]
    }
   ],
   "source": [
    "# To call a function, use the function name followed by parenthesis:\n",
    "\n",
    "def my_function():\n",
    "  print('Hello from a function')\n",
    "\n",
    "my_function()"
   ]
  },
  {
   "cell_type": "markdown",
   "id": "2901f8c5-0e33-4b50-b69f-97ed45a3e5f9",
   "metadata": {},
   "source": [
    "## Arguments\n",
    "#### Parameters in python are variables — placeholders for the actual values the function needs.\n",
    "#### When the function is called, **these values are passed in as arguments**.\n",
    "\n",
    "*Arguments are specified after the function name, inside the parentheses. You can add as many arguments as you want, just separate them with a comma.*"
   ]
  },
  {
   "cell_type": "code",
   "execution_count": 14,
   "id": "d1242ec2-d786-4bfa-82c2-06fd38064eb4",
   "metadata": {
    "tags": []
   },
   "outputs": [],
   "source": [
    "# Here, a function named 'number_squared' is defined\n",
    "# The function takes one parameter named 'number'\n",
    "\n",
    "def number_squared(number):\n",
    "    \n",
    "# Inside the function, it calculates the square of the input number using the ** exponentiation operator.\n",
    "# It will then print the results\n",
    "\n",
    "    print(number**2)"
   ]
  },
  {
   "cell_type": "code",
   "execution_count": 15,
   "id": "31760bd6-1185-4c08-bda9-f731dbcf4778",
   "metadata": {
    "tags": []
   },
   "outputs": [
    {
     "name": "stdout",
     "output_type": "stream",
     "text": [
      "25\n"
     ]
    }
   ],
   "source": [
    "# The function is called with the argument 5.\n",
    "# The value 5 is passed to the number parameter of the function.\n",
    "\n",
    "number_squared(5)"
   ]
  },
  {
   "cell_type": "markdown",
   "id": "3845c72c-66a8-4ea0-9561-ac87c124de90",
   "metadata": {},
   "source": [
    "#### A Quick Note:\n",
    "The terms *parameter* and *argument* can be used for the same thing: information that are passed into a function.\n",
    "\n",
    "From a function's perspective: <br>\n",
    "\n",
    " - A parameter is the variable listed inside the parentheses in the function definition. <br>\n",
    " - An argument is the value that is sent to the function when it is called."
   ]
  },
  {
   "cell_type": "markdown",
   "id": "92add352-835d-46c3-9e9b-97fe95510630",
   "metadata": {},
   "source": [
    "### Arbitray Arguments, * args"
   ]
  },
  {
   "cell_type": "code",
   "execution_count": 28,
   "id": "e66c463a-8644-48da-8840-3d3089e86653",
   "metadata": {
    "tags": []
   },
   "outputs": [],
   "source": [
    "# If you do not know how many arguments that will be passed into your function, \n",
    "# add a * before the parameter name in the function definition."
   ]
  },
  {
   "cell_type": "code",
   "execution_count": 16,
   "id": "c251bf11-504c-4a8f-a723-2e6edc539f52",
   "metadata": {
    "tags": []
   },
   "outputs": [
    {
     "name": "stdout",
     "output_type": "stream",
     "text": [
      "15\n"
     ]
    }
   ],
   "source": [
    "# Lets say you want to create a function that will sum up a list of numbers. \n",
    "# The most intuitive way will be to create that list and pass it into a function, as shown below:\n",
    "\n",
    "list_to_sum = [1,2,3,4,5]\n",
    "\n",
    "def sum_function(numbers):\n",
    "    total = 0\n",
    "    for i in numbers:\n",
    "        total += i\n",
    "\n",
    "    return total\n",
    "\n",
    "print(sum_function(list_to_sum))"
   ]
  },
  {
   "cell_type": "code",
   "execution_count": 17,
   "id": "abc9d9ca-4700-46e2-b6e7-86a2ef112e92",
   "metadata": {
    "tags": []
   },
   "outputs": [
    {
     "name": "stdout",
     "output_type": "stream",
     "text": [
      "15\n"
     ]
    }
   ],
   "source": [
    "# If you do it that way, it means you will have to create a new list every single time\n",
    "# An alternative is to use *args where you can pass a varying number of positional arguments instead of creating a list to store these arguments\n",
    "\n",
    "# Edit the above sum_function():\n",
    "\n",
    "\n",
    "def sum_function(*numbers):\n",
    "    total = 0\n",
    "    for i in numbers:\n",
    "        total += i\n",
    "\n",
    "    return total\n",
    "    \n",
    "print(sum_function(1,2,3,4,5))\n"
   ]
  },
  {
   "cell_type": "code",
   "execution_count": 18,
   "id": "527ef05f-616c-4b51-90e2-f56b6bd0420c",
   "metadata": {
    "tags": []
   },
   "outputs": [
    {
     "name": "stdout",
     "output_type": "stream",
     "text": [
      "20\n"
     ]
    }
   ],
   "source": [
    "print(sum_function(5, 5, 5, 5))"
   ]
  },
  {
   "cell_type": "markdown",
   "id": "720b74e1-fc3a-4ecb-9d8e-00fe0bc16726",
   "metadata": {},
   "source": [
    "### Keyword Arguments"
   ]
  },
  {
   "cell_type": "code",
   "execution_count": 29,
   "id": "8707e67c-9500-45c2-a24a-d11f3839e251",
   "metadata": {
    "tags": []
   },
   "outputs": [],
   "source": [
    "# You can also send arguments with the key = value syntax. \n",
    "# With this,the order of arguments does not matter"
   ]
  },
  {
   "cell_type": "code",
   "execution_count": 19,
   "id": "c26f7e78-3815-41da-859a-5c9f424d8e59",
   "metadata": {
    "tags": []
   },
   "outputs": [],
   "source": [
    "def number_squared(number, power):\n",
    "    print(number**power)"
   ]
  },
  {
   "cell_type": "code",
   "execution_count": 20,
   "id": "a2dde920-1864-450e-8b8c-d285fae7248c",
   "metadata": {
    "tags": []
   },
   "outputs": [
    {
     "name": "stdout",
     "output_type": "stream",
     "text": [
      "243\n"
     ]
    }
   ],
   "source": [
    "number_squared(power = 5,number = 3)"
   ]
  },
  {
   "cell_type": "markdown",
   "id": "0e4ac720-ef1a-4bc6-9a25-2c6235e5eb41",
   "metadata": {},
   "source": [
    "### Arbitrary Keyword Arguments, **kwargs"
   ]
  },
  {
   "cell_type": "code",
   "execution_count": 31,
   "id": "48393321-92ac-4fc9-80d1-f0d4b7fd30e1",
   "metadata": {
    "tags": []
   },
   "outputs": [],
   "source": [
    "# If you do not know how many keyword arguments that will be passed into your function, \n",
    "# add two asterisk: ** before the parameter name in the function definition\n",
    "\n",
    "# This way the function will receive a dictionary of arguments, and can access the items accordingly"
   ]
  },
  {
   "cell_type": "code",
   "execution_count": 33,
   "id": "d2ec4be1-a071-4b83-b1e2-1570005adfc3",
   "metadata": {
    "tags": []
   },
   "outputs": [],
   "source": [
    "def number_kwarg(**number):\n",
    "    print('my number is: ' + number['integer']) # We call the number here"
   ]
  },
  {
   "cell_type": "code",
   "execution_count": 34,
   "id": "ddcbbbd1-93d3-40c0-8193-1054c53d07ea",
   "metadata": {
    "tags": []
   },
   "outputs": [
    {
     "name": "stdout",
     "output_type": "stream",
     "text": [
      "my number is: 2309\n"
     ]
    }
   ],
   "source": [
    "number_kwarg(integer = '2309')"
   ]
  },
  {
   "cell_type": "code",
   "execution_count": 38,
   "id": "241d2e06-d0f1-44ce-9efd-5f2ae0d853a6",
   "metadata": {
    "tags": []
   },
   "outputs": [],
   "source": [
    "def number_kwarg(**number):\n",
    "    print('my number is: ' + number['integer'] + ' My other number: ' + number['integer2'])"
   ]
  },
  {
   "cell_type": "code",
   "execution_count": 39,
   "id": "29624e0b-bc08-4f7f-9b4c-87f8172a17dd",
   "metadata": {
    "tags": []
   },
   "outputs": [
    {
     "name": "stdout",
     "output_type": "stream",
     "text": [
      "my number is: 2309 My other number: 350\n"
     ]
    }
   ],
   "source": [
    "number_kwarg(integer = '2309', integer2 = '350')"
   ]
  }
 ],
 "metadata": {
  "kernelspec": {
   "display_name": "Python 3 (ipykernel)",
   "language": "python",
   "name": "python3"
  },
  "language_info": {
   "codemirror_mode": {
    "name": "ipython",
    "version": 3
   },
   "file_extension": ".py",
   "mimetype": "text/x-python",
   "name": "python",
   "nbconvert_exporter": "python",
   "pygments_lexer": "ipython3",
   "version": "3.10.8"
  }
 },
 "nbformat": 4,
 "nbformat_minor": 5
}
