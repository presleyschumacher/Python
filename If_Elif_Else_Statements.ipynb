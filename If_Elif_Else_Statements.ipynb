{
 "cells": [
  {
   "cell_type": "markdown",
   "id": "ad652b58-d059-4dc7-8e0d-a75d04b6cdac",
   "metadata": {
    "tags": []
   },
   "source": [
    "# If - Elif - Else Statements\n",
    "\n",
    "#### Conditional statements in Python languages decide the direction (Control Flow) of the flow of program execution.\n",
    "#### Type of control flow statements in Python:\n",
    ">> 1. if statement\n",
    ">> 2. if-else statement\n",
    ">> 3. nested-if statement\n",
    ">> 4. if-elif-else ladder"
   ]
  },
  {
   "cell_type": "markdown",
   "id": "a68a47f7-2163-4d97-8633-e427e56f9ca6",
   "metadata": {},
   "source": [
    "### If Statement:\n",
    "#### Used to decide whether a certain statement or block of statements will be executed or not."
   ]
  },
  {
   "cell_type": "code",
   "execution_count": 3,
   "id": "9fd461a5-77ff-442f-ae94-fe5a6fb939ac",
   "metadata": {
    "tags": []
   },
   "outputs": [
    {
     "name": "stdout",
     "output_type": "stream",
     "text": [
      "b is greater than a\n"
     ]
    }
   ],
   "source": [
    "a = 33\n",
    "b = 200\n",
    "\n",
    "if b > a:\n",
    "    print('b is greater than a')"
   ]
  },
  {
   "cell_type": "markdown",
   "id": "7f19ee20-d770-4686-86a2-7cc38aa7780b",
   "metadata": {},
   "source": [
    "## Elif\n",
    "#### The if statements are executed from the top down\n",
    "#### If any condition in the 'if' statement is true, that condition is executed, and the rest of the conditions are ignored. If none of the conditions is true, the 'else' statement is executed"
   ]
  },
  {
   "cell_type": "code",
   "execution_count": 4,
   "id": "bb24164b-838b-4524-a26d-23e0e59dde59",
   "metadata": {
    "tags": []
   },
   "outputs": [
    {
     "name": "stdout",
     "output_type": "stream",
     "text": [
      "a and b are equal\n"
     ]
    }
   ],
   "source": [
    "a = 33\n",
    "b = 33\n",
    "if b > a:\n",
    "  print('b is greater than a')\n",
    "elif a == b:\n",
    "  print('a and b are equal')"
   ]
  },
  {
   "cell_type": "markdown",
   "id": "db391a99-8d70-4a89-8b39-0e992d1da168",
   "metadata": {
    "tags": []
   },
   "source": [
    "In this example: \n",
    "> a is equal to b, so the first condition is not true,\n",
    "\n",
    "> the elif condition is true, so we print to screen that \"a and b are equal\"."
   ]
  },
  {
   "cell_type": "markdown",
   "id": "cdcba55d-475e-41bb-9fb9-852c0d555db4",
   "metadata": {},
   "source": [
    "## Else\n",
    "#### The else keyword catches anything which isn't caught by the preceding conditions."
   ]
  },
  {
   "cell_type": "code",
   "execution_count": 9,
   "id": "e5d4951f-4eca-46cc-94eb-dce74ef332ed",
   "metadata": {
    "tags": []
   },
   "outputs": [
    {
     "name": "stdout",
     "output_type": "stream",
     "text": [
      "a is greater than b\n"
     ]
    }
   ],
   "source": [
    "a = 200\n",
    "b = 33\n",
    "if b > a:\n",
    "  print(\"b is greater than a\")\n",
    "elif a == b:\n",
    "  print(\"a and b are equal\")\n",
    "else:\n",
    "  print(\"a is greater than b\")"
   ]
  },
  {
   "cell_type": "markdown",
   "id": "e970c19b-df32-4a2d-aaa4-1b224a794474",
   "metadata": {},
   "source": [
    "In this example:\n",
    "> a is greater than b, so the first condition is not true, \n",
    "\n",
    "> the elif condition is not true, \n",
    "\n",
    "> so we go to the else condition and print to screen that \"a is greater than b\"."
   ]
  },
  {
   "cell_type": "markdown",
   "id": "043ed8a6-15a5-4ae6-b34d-4afcacfa2e2a",
   "metadata": {},
   "source": [
    "#### You can also have an else without the elif:"
   ]
  },
  {
   "cell_type": "code",
   "execution_count": 10,
   "id": "e90e505b-e011-4739-984a-7b7efe3cbc50",
   "metadata": {
    "tags": []
   },
   "outputs": [
    {
     "name": "stdout",
     "output_type": "stream",
     "text": [
      "b is not greater than a\n"
     ]
    }
   ],
   "source": [
    "a = 200\n",
    "b = 33\n",
    "if b > a:\n",
    "  print(\"b is greater than a\")\n",
    "else:\n",
    "  print(\"b is not greater than a\")"
   ]
  }
 ],
 "metadata": {
  "kernelspec": {
   "display_name": "Python 3 (ipykernel)",
   "language": "python",
   "name": "python3"
  },
  "language_info": {
   "codemirror_mode": {
    "name": "ipython",
    "version": 3
   },
   "file_extension": ".py",
   "mimetype": "text/x-python",
   "name": "python",
   "nbconvert_exporter": "python",
   "pygments_lexer": "ipython3",
   "version": "3.10.8"
  }
 },
 "nbformat": 4,
 "nbformat_minor": 5
}
