{
 "cells": [
  {
   "cell_type": "markdown",
   "id": "e94bd4a1-7c30-4d6a-86ce-3ebd83785e44",
   "metadata": {},
   "source": [
    "# Hogwarts Sorting Hat with Python"
   ]
  },
  {
   "cell_type": "markdown",
   "id": "bac12591-3f48-4383-aaf5-30838ac1e71e",
   "metadata": {},
   "source": [
    "\n",
    "In the Harry Potter Series, the Hogwarts Sorting Hat assigns each new student to one of the four Hogwarts houses. At the beginning of each school year, the Hat is placed on the first-year students and divides them into the houses based on their dominant personality traits associated wtih the four houses. The houses and the most dominant personality traits related to each are:\n",
    "\n",
    "> **Gryffindor**: bravery, honor, loyalty, and boldness <br>\n",
    "> **Ravenclaw**: intelligence, creativity, curiosity, and individuality\n",
    "> **Hufflepuff**: kindness, honesty, humbleness, and patience\n",
    ">**Slytherin**: ambition, resourcefulness, determination, cunning\n",
    "\n",
    "In this project, we will create a Harry Potter style soting hat."
   ]
  },
  {
   "cell_type": "code",
   "execution_count": 1,
   "id": "a42efa5a-fa6c-4026-bae1-dc6e97183935",
   "metadata": {
    "tags": []
   },
   "outputs": [
    {
     "name": "stdout",
     "output_type": "stream",
     "text": [
      "~~~~~~~~~~~~~~~~~~~~~~~\n",
      "~                     ~\n",
      "~   The Sorting Hat   ~\n",
      "~                     ~\n",
      "~~~~~~~~~~~~~~~~~~~~~~~\n",
      "\n",
      "Welcome to Hogwarts school of witchcraft and wizardry!\n",
      "Answer the following questions to be assigned your new house.\n",
      "\n"
     ]
    }
   ],
   "source": [
    "print(\"~~~~~~~~~~~~~~~~~~~~~~~\")\n",
    "print(\"~                     ~\")\n",
    "print(\"~   The Sorting Hat   ~\")\n",
    "print(\"~                     ~\")\n",
    "print(\"~~~~~~~~~~~~~~~~~~~~~~~\")\n",
    "print(\"\")\n",
    "print(\"Welcome to Hogwarts school of witchcraft and wizardry!\")\n",
    "print(\"Answer the following questions to be assigned your new house.\")\n",
    "print(\"\")\n",
    "gryffindor = 0    \n",
    "hufflepuff = 0\n",
    "ravenclaw = 0\n",
    "slytherin = 0"
   ]
  },
  {
   "cell_type": "markdown",
   "id": "4d880077-45a5-4379-b6be-47cc31c59536",
   "metadata": {},
   "source": [
    "#### Using IF Statements\n",
    "##### Ask the first questions to see if the user considers themselves brave. If yes, 1 point will be added to Gryffindor."
   ]
  },
  {
   "cell_type": "code",
   "execution_count": 4,
   "id": "8ac5b330-63e2-4d39-880b-31875c968f84",
   "metadata": {
    "tags": []
   },
   "outputs": [
    {
     "name": "stdin",
     "output_type": "stream",
     "text": [
      "Are you a brave person? yes\n"
     ]
    }
   ],
   "source": [
    "brave = input(\"Are you a brave person?\").lower()\n",
    "if brave==\"yes\":\n",
    "  gryffindor = gryffindor + 1"
   ]
  },
  {
   "cell_type": "markdown",
   "id": "ebbd41e2-65d7-42ac-ae1b-d97798605ccb",
   "metadata": {},
   "source": [
    "#### Using IF and ELSE Statements\n",
    "##### The next question could lead to two outcomes. We'll ask if the user considers them to be patient. If 'yes', Hufflepuff will get 1 point. However, if 'no', Slytherin will get 1 point"
   ]
  },
  {
   "cell_type": "code",
   "execution_count": 3,
   "id": "0196294a-8db0-44dc-91d2-d010c090520d",
   "metadata": {
    "tags": []
   },
   "outputs": [
    {
     "name": "stdin",
     "output_type": "stream",
     "text": [
      "Would you describe yourself as being patient? yes\n"
     ]
    }
   ],
   "source": [
    "patient = input(\"Would you describe yourself as being patient?\").lower()\n",
    "if patient==\"yes\":\n",
    "  hufflepuff = hufflepuff + 1 \n",
    "else:\n",
    "  slytherin = slytherin + 1 "
   ]
  },
  {
   "cell_type": "code",
   "execution_count": 17,
   "id": "c35fb84c-9d73-4c42-aef3-1e41b466385d",
   "metadata": {
    "tags": []
   },
   "outputs": [],
   "source": [
    "# continue using 'IF' and 'IF ELSE' statements\n",
    "# the answers will be used to place the user in their Hogwarts House"
   ]
  },
  {
   "cell_type": "code",
   "execution_count": 5,
   "id": "0016952d-a43b-4581-b0cd-8e261db8b158",
   "metadata": {
    "tags": []
   },
   "outputs": [
    {
     "name": "stdin",
     "output_type": "stream",
     "text": [
      "Are you focused and studious? yes\n"
     ]
    }
   ],
   "source": [
    "focused_studious = input(\"Are you focused and studious?\").lower()\n",
    "if focused_studious ==\"yes\":\n",
    "  ravenclaw = ravenclaw + 1"
   ]
  },
  {
   "cell_type": "code",
   "execution_count": 6,
   "id": "a32c7e46-e818-4389-b318-a5050143083c",
   "metadata": {
    "tags": []
   },
   "outputs": [
    {
     "name": "stdin",
     "output_type": "stream",
     "text": [
      "Have you got a creative mind? yes\n"
     ]
    }
   ],
   "source": [
    "creative = input(\"Have you got a creative mind?\").lower()\n",
    "if creative ==\"yes\":\n",
    "  ravenclaw = ravenclaw + 1"
   ]
  },
  {
   "cell_type": "code",
   "execution_count": 7,
   "id": "0758bada-c6e0-4653-a9d8-9b14fbe639f9",
   "metadata": {
    "tags": []
   },
   "outputs": [
    {
     "name": "stdin",
     "output_type": "stream",
     "text": [
      "Are you organized and like to plan things ahead? yes\n"
     ]
    }
   ],
   "source": [
    "organized = input(\"Are you organized and like to plan things ahead?\").lower()\n",
    "if organized ==\"yes\":\n",
    "  ravenclaw = ravenclaw + 1"
   ]
  },
  {
   "cell_type": "code",
   "execution_count": 9,
   "id": "2baf031a-7975-40b0-abb0-3b993655a85e",
   "metadata": {
    "tags": []
   },
   "outputs": [
    {
     "name": "stdin",
     "output_type": "stream",
     "text": [
      "Are you kind? yes\n"
     ]
    }
   ],
   "source": [
    "kind = input(\"Are you kind?\").lower()\n",
    "if kind ==\"yes\":\n",
    "   hufflepuff = hufflepuff + 1\n",
    "   ravenclaw = ravenclaw + 1\n",
    "   gryffindor = gryffindor + 1\n",
    "    \n",
    "else:\n",
    "  slytherin = slytherin + 1"
   ]
  },
  {
   "cell_type": "code",
   "execution_count": 10,
   "id": "3f174376-ef28-4c43-a3ec-1aeb7dc4d804",
   "metadata": {
    "tags": []
   },
   "outputs": [
    {
     "name": "stdin",
     "output_type": "stream",
     "text": [
      "Are you a fair type of person? No\n"
     ]
    }
   ],
   "source": [
    "fair = input(\"Are you a fair type of person?\").lower()\n",
    "if fair ==\"yes\":\n",
    "   hufflepuff = hufflepuff + 1\n",
    "   gryffindor = gryffindor + 1\n",
    "    \n",
    "else:\n",
    "  slytherin = slytherin + 1"
   ]
  },
  {
   "cell_type": "code",
   "execution_count": 11,
   "id": "269d776e-44d1-4d9d-8ff8-b62720f93997",
   "metadata": {
    "tags": []
   },
   "outputs": [
    {
     "name": "stdin",
     "output_type": "stream",
     "text": [
      "Are you loyal? yes\n"
     ]
    }
   ],
   "source": [
    "loyal = input(\"Are you loyal?\").lower()\n",
    "if loyal ==\"yes\":\n",
    "   ravenclaw = ravenclaw + 1\n",
    "   gryffindor = gryffindor + 1\n",
    "    \n",
    "else:\n",
    "  slytherin = slytherin + 1"
   ]
  },
  {
   "cell_type": "code",
   "execution_count": 12,
   "id": "3b076994-96ba-4bbf-a9e0-ac9ef8c4b077",
   "metadata": {
    "tags": []
   },
   "outputs": [
    {
     "name": "stdin",
     "output_type": "stream",
     "text": [
      "Are you competitive? no\n"
     ]
    }
   ],
   "source": [
    "competitive = input(\"Are you competitive?\").lower()\n",
    "if competitive ==\"yes\":\n",
    "   ravenclaw = ravenclaw + 1\n",
    "   slytherin = slytherin + 1"
   ]
  },
  {
   "cell_type": "code",
   "execution_count": 13,
   "id": "9c2f2167-8846-4663-b840-1333e2971c62",
   "metadata": {
    "tags": []
   },
   "outputs": [
    {
     "name": "stdin",
     "output_type": "stream",
     "text": [
      "Are you determined? yes\n"
     ]
    }
   ],
   "source": [
    "determined = input(\"Are you determined?\").lower()\n",
    "if determined ==\"yes\":\n",
    "   slytherin = slytherin + 1\n",
    "\n",
    "else:\n",
    "   hufflepuff = hufflepuff + 1\n",
    "   ravenclaw = ravenclaw + 1\n",
    "   gryffindor = gryffindor + 1"
   ]
  },
  {
   "cell_type": "code",
   "execution_count": 14,
   "id": "26b6adca-0838-4885-9622-dce14d468b85",
   "metadata": {
    "tags": []
   },
   "outputs": [
    {
     "name": "stdin",
     "output_type": "stream",
     "text": [
      "Do you have strong friendship values? yes\n"
     ]
    }
   ],
   "source": [
    "friendship = input(\"Do you have strong friendship values?\").lower()\n",
    "if friendship ==\"yes\":\n",
    "   hufflepuff = hufflepuff + 1\n",
    "   ravenclaw = ravenclaw + 1\n",
    "   gryffindor = gryffindor + 1\n",
    "\n",
    "else:\n",
    "    slytherin = slytherin + 1"
   ]
  },
  {
   "cell_type": "code",
   "execution_count": 15,
   "id": "2c0adb66-e533-4a68-bddf-133d42d0f774",
   "metadata": {
    "tags": []
   },
   "outputs": [
    {
     "name": "stdout",
     "output_type": "stream",
     "text": [
      "Total Scores:\n",
      " - Gryffindor:5\n",
      " - Ravenclaw:6\n",
      " - Hufflepuff:3\n",
      " - Slytherin:2\n"
     ]
    }
   ],
   "source": [
    "# Step 4: Display the scores\n",
    "print(\"Total Scores:\")\n",
    "print(\" - Gryffindor:\" + str(gryffindor))\n",
    "print(\" - Ravenclaw:\" + str(ravenclaw))\n",
    "print(\" - Hufflepuff:\" + str(hufflepuff))\n",
    "print(\" - Slytherin:\" + str(slytherin))"
   ]
  },
  {
   "cell_type": "code",
   "execution_count": 16,
   "id": "f8391b09-0c93-4b6b-9166-cd37ef726974",
   "metadata": {
    "tags": []
   },
   "outputs": [
    {
     "name": "stdout",
     "output_type": "stream",
     "text": [
      "You belong to Ravenclaw!\n"
     ]
    }
   ],
   "source": [
    "# Step 5: Select the house with the highest score\n",
    "if gryffindor>=ravenclaw and gryffindor>=hufflepuff and gryffindor>=slytherin:\n",
    "   print(\"You belong to Gryffindor!\")\n",
    "elif ravenclaw>=gryffindor and ravenclaw>=hufflepuff and ravenclaw>=slytherin:\n",
    "   print(\"You belong to Ravenclaw!\")\n",
    "elif hufflepuff>=ravenclaw and hufflepuff>=gryffindor and hufflepuff>=slytherin:\n",
    "   print(\"You belong to Hufflepuff!\")\n",
    "elif slytherin>=ravenclaw and slytherin>=hufflepuff and slytherin>=gryffindor:\n",
    "   print(\"You belong to Slytherin!\")"
   ]
  }
 ],
 "metadata": {
  "kernelspec": {
   "display_name": "Python 3 (ipykernel)",
   "language": "python",
   "name": "python3"
  },
  "language_info": {
   "codemirror_mode": {
    "name": "ipython",
    "version": 3
   },
   "file_extension": ".py",
   "mimetype": "text/x-python",
   "name": "python",
   "nbconvert_exporter": "python",
   "pygments_lexer": "ipython3",
   "version": "3.10.8"
  }
 },
 "nbformat": 4,
 "nbformat_minor": 5
}
