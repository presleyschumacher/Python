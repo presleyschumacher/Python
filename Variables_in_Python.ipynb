{
 "cells": [
  {
   "cell_type": "markdown",
   "id": "a42036b7-7577-45e9-a2f3-ec899fd52c9c",
   "metadata": {
    "tags": []
   },
   "source": [
    "### Variables in Python"
   ]
  },
  {
   "cell_type": "markdown",
   "id": "e59e3a15-b769-4447-bcff-03b3d1cc33b5",
   "metadata": {
    "tags": []
   },
   "source": [
    "#### Assign 22 to the variable 'x' & print the variable's type"
   ]
  },
  {
   "cell_type": "code",
   "execution_count": 5,
   "id": "66937415-4be7-4c74-890d-afabf184be3a",
   "metadata": {
    "tags": []
   },
   "outputs": [
    {
     "name": "stdout",
     "output_type": "stream",
     "text": [
      "22\n"
     ]
    }
   ],
   "source": [
    "x = 22\n",
    "print(x)"
   ]
  },
  {
   "cell_type": "code",
   "execution_count": 6,
   "id": "e9576026-3b14-42d6-ab56-abe257e7a29b",
   "metadata": {
    "tags": []
   },
   "outputs": [
    {
     "data": {
      "text/plain": [
       "int"
      ]
     },
     "execution_count": 6,
     "metadata": {},
     "output_type": "execute_result"
    }
   ],
   "source": [
    "type(x)"
   ]
  },
  {
   "cell_type": "markdown",
   "id": "184086dd-407c-4dac-a69f-a4df275db797",
   "metadata": {
    "tags": []
   },
   "source": [
    "#### Assign 'mint chocolate chip' to the variable 'y'  & print the variable's type"
   ]
  },
  {
   "cell_type": "code",
   "execution_count": 7,
   "id": "cb129a15-1267-4d1a-aeec-43026f76a456",
   "metadata": {
    "tags": []
   },
   "outputs": [
    {
     "name": "stdout",
     "output_type": "stream",
     "text": [
      "Mint Chocolate Chip\n"
     ]
    }
   ],
   "source": [
    "y = 'Mint Chocolate Chip'\n",
    "\n",
    "print(y)"
   ]
  },
  {
   "cell_type": "code",
   "execution_count": 8,
   "id": "e34e512b-3d63-4a46-9bb8-252f7c3bbd7c",
   "metadata": {
    "tags": []
   },
   "outputs": [
    {
     "data": {
      "text/plain": [
       "str"
      ]
     },
     "execution_count": 8,
     "metadata": {},
     "output_type": "execute_result"
    }
   ],
   "source": [
    "type(y)"
   ]
  },
  {
   "cell_type": "markdown",
   "id": "e4173d4d-8bd8-45d1-a630-e389d0f05d29",
   "metadata": {},
   "source": [
    "#### Example of variable reassignment"
   ]
  },
  {
   "cell_type": "code",
   "execution_count": 20,
   "id": "b1d81a2c-7223-4929-8509-bd2bcf3ffaaf",
   "metadata": {
    "tags": []
   },
   "outputs": [
    {
     "name": "stdout",
     "output_type": "stream",
     "text": [
      "mint chocolate chip\n"
     ]
    }
   ],
   "source": [
    "# Assign the variable 'y' to chocolate\n",
    "y = 'chocolate'\n",
    "\n",
    "# Reassign the variable 'y' to mint chocolate chip\n",
    "y = 'mint chocolate chip'\n",
    "\n",
    "# Variable 'y' was reassigned and, thus, will print mint chocolate chip\n",
    "print(y)"
   ]
  },
  {
   "cell_type": "markdown",
   "id": "b3ebd234-4d7b-47e8-870a-bbc73eb68686",
   "metadata": {},
   "source": [
    "#### Assign multiple values to multiple variables"
   ]
  },
  {
   "cell_type": "code",
   "execution_count": 21,
   "id": "b900ce2f-99f7-453f-a27f-046591d90cdf",
   "metadata": {
    "tags": []
   },
   "outputs": [
    {
     "name": "stdout",
     "output_type": "stream",
     "text": [
      "chocolate\n",
      "vanilla\n",
      "rocky road\n"
     ]
    }
   ],
   "source": [
    "# Assign the values - chocolate, vanilla, and rocky road - to the variables x, y, z\n",
    "x,y,z = 'chocolate', 'vanilla', 'rocky road'\n",
    "\n",
    "# Print variables x, y, z\n",
    "print(x)\n",
    "print(y)\n",
    "print(z)"
   ]
  },
  {
   "cell_type": "markdown",
   "id": "c580da69-fcdf-41cc-bcae-6bf1a222f27b",
   "metadata": {},
   "source": [
    "#### Assign multiple variables to one value"
   ]
  },
  {
   "cell_type": "code",
   "execution_count": 22,
   "id": "051fb389-dd56-4038-aea0-42127993e3ef",
   "metadata": {
    "tags": []
   },
   "outputs": [
    {
     "name": "stdout",
     "output_type": "stream",
     "text": [
      "root beer float\n",
      "root beer float\n",
      "root beer float\n"
     ]
    }
   ],
   "source": [
    "# Assign the value, root beer float, to the variables, x, y, z.\n",
    "x = y = z = 'root beer float'\n",
    "\n",
    "# Print the variables of x, y, and z\n",
    "print(x)\n",
    "print(y)\n",
    "print(z)"
   ]
  },
  {
   "cell_type": "markdown",
   "id": "6dbfa794-34c5-4a5e-8691-2b008caa8f55",
   "metadata": {},
   "source": [
    "### Create a list, assign values to the list, then assign the values to variables\n",
    "\n",
    "#### Define ice_cream as the list\n",
    "#### 'chocolate', vanilla', and 'rocky road' are the string values within the list\n",
    "#### x, y, z are the variables\n",
    "#### Empty the values from the list into variables x, y, z"
   ]
  },
  {
   "cell_type": "code",
   "execution_count": 16,
   "id": "1469b193-c3f0-4113-b323-38fc89375e72",
   "metadata": {
    "tags": []
   },
   "outputs": [
    {
     "name": "stdout",
     "output_type": "stream",
     "text": [
      "chocolate\n",
      "vanilla\n",
      "rocky road\n"
     ]
    }
   ],
   "source": [
    "# Define a list of ice cream flavors\n",
    "ice_cream = ['chocolate', 'vanilla', 'rocky road']\n",
    "\n",
    "# Unpack the values from the list into variables x, y, z\n",
    "x,y,z = ice_cream\n",
    "\n",
    "# Print the variables of x, y, and z\n",
    "print(x)\n",
    "print(y)\n",
    "print(z)\n"
   ]
  },
  {
   "cell_type": "markdown",
   "id": "120c8214-f3b1-4ae6-a164-4c03ea034498",
   "metadata": {},
   "source": [
    "### Various Ways to Name Variables\n",
    "##### Best Practices and Things to Avoid"
   ]
  },
  {
   "cell_type": "markdown",
   "id": "6bfcdb4f-60a2-4feb-af51-af49f759db7a",
   "metadata": {},
   "source": [
    "#### 3 Examples of Best Practices"
   ]
  },
  {
   "cell_type": "code",
   "execution_count": 23,
   "id": "ee1cf930-ebe5-4968-805a-e7176aac8284",
   "metadata": {
    "tags": []
   },
   "outputs": [],
   "source": [
    "# Camel Case\n",
    "\n",
    "# Test Variable Case\n",
    "\n",
    "testVariableCase = 'Vanilla Swirl'"
   ]
  },
  {
   "cell_type": "code",
   "execution_count": null,
   "id": "ed3215a6-aeec-46f6-bab8-a76428b15bbb",
   "metadata": {},
   "outputs": [],
   "source": [
    "# Pascal Case\n",
    "\n",
    "# Test Variable Case\n",
    "\n",
    "TestVariableCase = 'Vanilla Swirl'\n",
    "#Capital T"
   ]
  },
  {
   "cell_type": "code",
   "execution_count": 24,
   "id": "9af24fd5-f527-41ed-9eb6-b136c7e09c94",
   "metadata": {
    "tags": []
   },
   "outputs": [],
   "source": [
    "# Snake Case\n",
    "\n",
    "# Test Variable Case\n",
    "\n",
    "test_variable_case = 'Vanilla Swirl'\n",
    "\n",
    "# Typically the best one to use:\n",
    "    # Improves readability because each word is broken up by the underscore\n",
    "    # Naming variables allows you to gain information about the variable"
   ]
  },
  {
   "cell_type": "code",
   "execution_count": null,
   "id": "87b4b980-5fc5-43e9-afb9-aaa9a45f55f7",
   "metadata": {},
   "outputs": [],
   "source": [
    "# Good variable Names\n",
    "\n",
    "testvar = 'Vanilla Swirl'\n",
    "test_var = 'Vanilla Swirl'\n",
    "_test_var = 'Vanilla Swirl'\n",
    "testVar = 'Vanilla Swirl'\n",
    "TestVar = 'Vanilla Swirl'"
   ]
  },
  {
   "cell_type": "markdown",
   "id": "e3a79e50-a28a-4993-ae32-c9609d119fd0",
   "metadata": {},
   "source": [
    "#### Examples of things that do not work"
   ]
  },
  {
   "cell_type": "code",
   "execution_count": 26,
   "id": "00463f57-975a-4c23-bfff-77bb1641a0bc",
   "metadata": {
    "tags": []
   },
   "outputs": [
    {
     "ename": "SyntaxError",
     "evalue": "invalid decimal literal (1159214746.py, line 2)",
     "output_type": "error",
     "traceback": [
      "\u001b[0;36m  Cell \u001b[0;32mIn[26], line 2\u001b[0;36m\u001b[0m\n\u001b[0;31m    2testvar = 'Vanilla Swirl'\u001b[0m\n\u001b[0m    ^\u001b[0m\n\u001b[0;31mSyntaxError\u001b[0m\u001b[0;31m:\u001b[0m invalid decimal literal\n"
     ]
    }
   ],
   "source": [
    "# Numbers can go after the variable, but not before, like:\n",
    "2testvar = 'Vanilla Swirl'\n",
    "\n",
    "# Can't use a dash\n",
    "test-var = 'vanilla swirl'\n",
    "\n",
    "# can't use a space\n",
    "test var = 'vanilla swirl'\n",
    "\n",
    "# Can't use a comma, or really any symbols\n",
    "test,var = 'vanilla swirl'"
   ]
  },
  {
   "cell_type": "code",
   "execution_count": null,
   "id": "05dcf632-7e36-415c-a630-a8e9ca3b978a",
   "metadata": {},
   "outputs": [],
   "source": []
  }
 ],
 "metadata": {
  "kernelspec": {
   "display_name": "Python 3 (ipykernel)",
   "language": "python",
   "name": "python3"
  },
  "language_info": {
   "codemirror_mode": {
    "name": "ipython",
    "version": 3
   },
   "file_extension": ".py",
   "mimetype": "text/x-python",
   "name": "python",
   "nbconvert_exporter": "python",
   "pygments_lexer": "ipython3",
   "version": "3.10.8"
  }
 },
 "nbformat": 4,
 "nbformat_minor": 5
}
