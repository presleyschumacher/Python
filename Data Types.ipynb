{
 "cells": [
  {
   "cell_type": "markdown",
   "id": "8a282f75-72ec-4eac-bf92-b704988c69b3",
   "metadata": {
    "tags": []
   },
   "source": [
    "# Data Types"
   ]
  },
  {
   "cell_type": "markdown",
   "id": "6a4d6a8d-6a54-417b-90c6-6682af4a5bbc",
   "metadata": {},
   "source": [
    "## Numeric Data Types\n",
    "> 1. Interger or int\n",
    "> 2. Float\n",
    "> 3. Complex"
   ]
  },
  {
   "cell_type": "markdown",
   "id": "e1031b5c-0399-44d6-988a-7cf8097a0c77",
   "metadata": {
    "tags": []
   },
   "source": [
    "### 1. Integers or int\n",
    "#### A whole number positive or negative, without decimals, of unlimited length"
   ]
  },
  {
   "cell_type": "code",
   "execution_count": 168,
   "id": "d63604ce-eee2-454f-baa1-5b23b2c7b79a",
   "metadata": {
    "tags": []
   },
   "outputs": [
    {
     "name": "stdout",
     "output_type": "stream",
     "text": [
      "<class 'int'>\n",
      "<class 'int'>\n",
      "<class 'int'>\n"
     ]
    }
   ],
   "source": [
    "x = 1\n",
    "y = 823748237429\n",
    "z = -24\n",
    "\n",
    "print(type(x))\n",
    "print(type(y))\n",
    "print(type(z))"
   ]
  },
  {
   "cell_type": "markdown",
   "id": "3fc135fb-b8b4-4f7d-b36f-cd5890701d44",
   "metadata": {
    "tags": []
   },
   "source": [
    "### 2. Float, or \"floating point number\"\n",
    "#### A number, positive or negative, containing one or more decimals."
   ]
  },
  {
   "cell_type": "code",
   "execution_count": 169,
   "id": "7c545469-be52-4ef4-a240-6d9af9e84494",
   "metadata": {
    "tags": []
   },
   "outputs": [
    {
     "name": "stdout",
     "output_type": "stream",
     "text": [
      "<class 'float'>\n",
      "<class 'float'>\n",
      "<class 'float'>\n"
     ]
    }
   ],
   "source": [
    "x = 1.10\n",
    "y = 224.482\n",
    "z = -14.3\n",
    "\n",
    "print(type(x))\n",
    "print(type(y))\n",
    "print(type(z))"
   ]
  },
  {
   "cell_type": "code",
   "execution_count": 170,
   "id": "4afa208f-6865-4d0f-94ed-f1002efb77b3",
   "metadata": {
    "tags": []
   },
   "outputs": [
    {
     "name": "stdout",
     "output_type": "stream",
     "text": [
      "<class 'float'>\n",
      "<class 'float'>\n",
      "<class 'float'>\n"
     ]
    }
   ],
   "source": [
    "# Float can also be scientific numbers with an \"e\" to indicate the power of 10.\n",
    "\n",
    "x = 35e3\n",
    "y = 12e4\n",
    "z = -87.7e100\n",
    "\n",
    "print(type(x))\n",
    "print(type(y))\n",
    "print(type(z))"
   ]
  },
  {
   "cell_type": "markdown",
   "id": "0e2fbf2c-939b-445e-9d0b-8cc97f614cc5",
   "metadata": {},
   "source": [
    "### 3. Complex\n",
    "#### Used for imaginary numbers\n",
    "#### *'j' is the only imaginary number that will work with complex number types*"
   ]
  },
  {
   "cell_type": "code",
   "execution_count": 171,
   "id": "bcfcb246-fe58-496b-8ade-03c931870d2d",
   "metadata": {
    "tags": []
   },
   "outputs": [
    {
     "name": "stdout",
     "output_type": "stream",
     "text": [
      "<class 'complex'>\n",
      "<class 'complex'>\n",
      "<class 'complex'>\n"
     ]
    }
   ],
   "source": [
    "x = (12 + 3j)\n",
    "y = 5j\n",
    "z = -7j\n",
    "\n",
    "print(type(x))\n",
    "print(type(y))\n",
    "print(type(z))"
   ]
  },
  {
   "cell_type": "markdown",
   "id": "043e3e61-1246-4fef-9f48-eeaa8ad8a282",
   "metadata": {},
   "source": [
    "## BooLean Data Types"
   ]
  },
  {
   "cell_type": "markdown",
   "id": "c1c3a1b7-5704-4bac-b2c2-db5700ddaff9",
   "metadata": {},
   "source": [
    "### Booleans represent one of two values: True or False"
   ]
  },
  {
   "cell_type": "code",
   "execution_count": 175,
   "id": "b63b8064-9c15-4ee4-a6fa-28ab9860b44a",
   "metadata": {
    "tags": []
   },
   "outputs": [
    {
     "name": "stdout",
     "output_type": "stream",
     "text": [
      "True\n",
      "True\n",
      "False\n"
     ]
    }
   ],
   "source": [
    "x = (10 > 9)\n",
    "y = (10 == 10)\n",
    "z = (10 < 9)\n",
    "\n",
    "print(x)\n",
    "print(y)\n",
    "print(z)"
   ]
  },
  {
   "cell_type": "code",
   "execution_count": 176,
   "id": "38f7f0fd-6293-4af1-84de-afd71fdc52e7",
   "metadata": {
    "tags": []
   },
   "outputs": [
    {
     "name": "stdout",
     "output_type": "stream",
     "text": [
      "<class 'bool'>\n",
      "<class 'bool'>\n",
      "<class 'bool'>\n"
     ]
    }
   ],
   "source": [
    "print(type(x))\n",
    "print(type(y))\n",
    "print(type(z))"
   ]
  },
  {
   "cell_type": "markdown",
   "id": "13b5a70e-1b44-4a27-a6bb-6be27b480960",
   "metadata": {},
   "source": [
    "## Text Data Types\n",
    "> 1. String or str"
   ]
  },
  {
   "cell_type": "markdown",
   "id": "308c72a7-4060-460f-b6b6-3673d7a99634",
   "metadata": {},
   "source": [
    "## 1. String or str\n",
    "#### Collection of data representing unicode characters\n",
    "#### When using strings, put them in either single, double, or triple quotes\n",
    "##### *The triple quote is called a multi-line*"
   ]
  },
  {
   "cell_type": "code",
   "execution_count": 178,
   "id": "26de8681-b8eb-4aea-b002-63cbec2ace82",
   "metadata": {
    "tags": []
   },
   "outputs": [
    {
     "data": {
      "text/plain": [
       "str"
      ]
     },
     "execution_count": 178,
     "metadata": {},
     "output_type": "execute_result"
    }
   ],
   "source": [
    "a = 'Hello World!'\n",
    "type(a)"
   ]
  },
  {
   "cell_type": "code",
   "execution_count": 180,
   "id": "4d5a6454-b74f-4669-902d-16bb32dc7807",
   "metadata": {
    "tags": []
   },
   "outputs": [
    {
     "name": "stdout",
     "output_type": "stream",
     "text": [
      "HELLO WORLD!\n"
     ]
    }
   ],
   "source": [
    "# The upper() method returns the string in upper case:\n",
    "\n",
    "print(a.upper())"
   ]
  },
  {
   "cell_type": "code",
   "execution_count": 181,
   "id": "dcdab8d3-e051-4644-b311-5881cf7f01d4",
   "metadata": {
    "tags": []
   },
   "outputs": [
    {
     "name": "stdout",
     "output_type": "stream",
     "text": [
      "hello world!\n"
     ]
    }
   ],
   "source": [
    "# The lower() method returns the string in lower case:\n",
    "\n",
    "print(a.lower())"
   ]
  },
  {
   "cell_type": "code",
   "execution_count": 179,
   "id": "cca2235c-f4e5-45ca-aef6-12136cfd13bb",
   "metadata": {
    "tags": []
   },
   "outputs": [
    {
     "name": "stdout",
     "output_type": "stream",
     "text": [
      "e\n"
     ]
    }
   ],
   "source": [
    "# Square brackets can be used to access elements of the string.\n",
    "# The first character has the position 0\n",
    "\n",
    "print(a[1])"
   ]
  },
  {
   "cell_type": "code",
   "execution_count": 182,
   "id": "da5dfaa4-e0e5-485b-b96f-d1469c5820d6",
   "metadata": {
    "tags": []
   },
   "outputs": [
    {
     "name": "stdout",
     "output_type": "stream",
     "text": [
      "Hello\n"
     ]
    }
   ],
   "source": [
    "# Get the characters from the start to position 5 (not included):\n",
    "\n",
    "print(a[:5])"
   ]
  },
  {
   "cell_type": "code",
   "execution_count": 183,
   "id": "c6e6652a-a8e0-466d-9d78-4133b425dfdf",
   "metadata": {
    "tags": []
   },
   "outputs": [
    {
     "name": "stdout",
     "output_type": "stream",
     "text": [
      "llo World!\n"
     ]
    }
   ],
   "source": [
    "# Get the characters from position 2, and all the way to the end:\n",
    "\n",
    "print(a[2:])"
   ]
  },
  {
   "cell_type": "code",
   "execution_count": 184,
   "id": "c0cd6f8d-3f6d-4b81-bdf0-1b3589e1267c",
   "metadata": {
    "tags": []
   },
   "outputs": [
    {
     "name": "stdout",
     "output_type": "stream",
     "text": [
      "llo\n"
     ]
    }
   ],
   "source": [
    "# Get the characters from position 2 to position 5 (not included):\n",
    "\n",
    "print(a[2:5])"
   ]
  },
  {
   "cell_type": "markdown",
   "id": "888d08bf-461d-4ebe-884f-1204bf75feee",
   "metadata": {
    "tags": []
   },
   "source": [
    "### There are 4 built-in data types in Python used to store collections of data: \n",
    "> 1. Lists\n",
    "> 2. Tuples\n",
    "> 3. Sets\n",
    "> 4. Dictionaries\n",
    "\n",
    "# 1. Lists\n",
    "#### List items are ordered, unchangeable, and allow duplicate values\n",
    "#### List items are indexed, the first item has index [0], the second item has index [1], etc."
   ]
  },
  {
   "cell_type": "code",
   "execution_count": 98,
   "id": "dd585284-1c4a-41ff-a859-278b3dffcc17",
   "metadata": {
    "tags": []
   },
   "outputs": [
    {
     "data": {
      "text/plain": [
       "[1, 2, 3]"
      ]
     },
     "execution_count": 98,
     "metadata": {},
     "output_type": "execute_result"
    }
   ],
   "source": [
    "# Lists are created using square brackets:\n",
    "\n",
    "[1,2,3]"
   ]
  },
  {
   "cell_type": "code",
   "execution_count": 101,
   "id": "63a75875-5bc9-4a6d-90d5-532dc4967732",
   "metadata": {
    "tags": []
   },
   "outputs": [
    {
     "data": {
      "text/plain": [
       "['Cookie Dough', 'Strawberry', 'Chocolate', 'Cookie Dough']"
      ]
     },
     "execution_count": 101,
     "metadata": {},
     "output_type": "execute_result"
    }
   ],
   "source": [
    "# Lists allow duplicate values:\n",
    "\n",
    "['Cookie Dough', 'Strawberry', 'Chocolate', 'Cookie Dough']"
   ]
  },
  {
   "cell_type": "code",
   "execution_count": 100,
   "id": "b6bb16e8-a7a5-4d7e-9156-cec8f093b6b4",
   "metadata": {
    "tags": []
   },
   "outputs": [
    {
     "data": {
      "text/plain": [
       "['Vanilla', 3, ['Scoops', 'Spoon'], True]"
      ]
     },
     "execution_count": 100,
     "metadata": {},
     "output_type": "execute_result"
    }
   ],
   "source": [
    "# List items can be of any data type. \n",
    "# A list with strings, integers, and boolean:\n",
    "\n",
    "['Vanilla', 3, ['Scoops','Spoon'],True]"
   ]
  },
  {
   "cell_type": "code",
   "execution_count": 185,
   "id": "a438d122-1238-4505-8565-e5b920b706ff",
   "metadata": {
    "tags": []
   },
   "outputs": [
    {
     "data": {
      "text/plain": [
       "['Cookie Dough', 'Strawberry', 'Chocolate']"
      ]
     },
     "execution_count": 185,
     "metadata": {},
     "output_type": "execute_result"
    }
   ],
   "source": [
    "# A list definied as 'ice_cream' containing 3 elements: cookie dough, strawberry, and chocolate\n",
    "\n",
    "ice_cream = ['Cookie Dough', 'Strawberry', 'Chocolate']\n",
    "\n",
    "# Execute:\n",
    "\n",
    "ice_cream"
   ]
  },
  {
   "cell_type": "code",
   "execution_count": 111,
   "id": "6ca2be21-3371-4e4c-b690-b72ec30ae564",
   "metadata": {
    "tags": []
   },
   "outputs": [
    {
     "data": {
      "text/plain": [
       "'Strawberry'"
      ]
     },
     "execution_count": 111,
     "metadata": {},
     "output_type": "execute_result"
    }
   ],
   "source": [
    "# List items are indexed and can be accessed by referring to the index number:\n",
    "\n",
    "ice_cream[1]"
   ]
  },
  {
   "cell_type": "code",
   "execution_count": 186,
   "id": "550bd45a-9852-4f9c-928c-d52708c839e6",
   "metadata": {
    "tags": []
   },
   "outputs": [
    {
     "data": {
      "text/plain": [
       "['Cookie Dough', 'Strawberry', 'Chocolate', 'Salted Caramel']"
      ]
     },
     "execution_count": 186,
     "metadata": {},
     "output_type": "execute_result"
    }
   ],
   "source": [
    "# The '.append()' is a list method that allows you to add a new element to the end of the list\n",
    "\n",
    "# Add 'Salted Caramel' to the end of the 'ice_cream' list:\n",
    "\n",
    "ice_cream.append('Salted Caramel')\n",
    "\n",
    "# Execute:\n",
    "\n",
    "ice_cream"
   ]
  },
  {
   "cell_type": "code",
   "execution_count": 187,
   "id": "7b176569-9181-4f19-867a-2e91ac83a8ce",
   "metadata": {
    "tags": []
   },
   "outputs": [],
   "source": [
    "# After exeuting, the 'ice_cream' list has 4 elements, with salted caramel being the last one"
   ]
  },
  {
   "cell_type": "code",
   "execution_count": 189,
   "id": "149f3f9d-da52-41a1-9516-7a1d0975ae0e",
   "metadata": {
    "tags": []
   },
   "outputs": [
    {
     "data": {
      "text/plain": [
       "['Butter Pecan', 'Strawberry', 'Chocolate', 'Salted Caramel']"
      ]
     },
     "execution_count": 189,
     "metadata": {},
     "output_type": "execute_result"
    }
   ],
   "source": [
    "# To change the value of a specific item,refer to the index number of that item\n",
    "\n",
    "# Change the first item:\n",
    "\n",
    "ice_cream[0] = 'Butter Pecan'\n",
    "\n",
    "# Execute:\n",
    "\n",
    "ice_cream"
   ]
  },
  {
   "cell_type": "code",
   "execution_count": 190,
   "id": "f0ff68a3-33e7-449c-9d3a-709973b47b77",
   "metadata": {
    "tags": []
   },
   "outputs": [
    {
     "data": {
      "text/plain": [
       "['Butter Pecan', 'Strawberry', 'Salted Caramel']"
      ]
     },
     "execution_count": 190,
     "metadata": {},
     "output_type": "execute_result"
    }
   ],
   "source": [
    "# The remove() method removes the specified item\n",
    "\n",
    "# Remove 'chocolate':\n",
    "\n",
    "ice_cream.remove('Chocolate')\n",
    "\n",
    "# Execute:\n",
    "\n",
    "ice_cream"
   ]
  },
  {
   "cell_type": "markdown",
   "id": "3514f8e0-3641-496d-b9c7-20d21f0c66ff",
   "metadata": {},
   "source": [
    "### Nested List"
   ]
  },
  {
   "cell_type": "code",
   "execution_count": 191,
   "id": "a80c5567-8962-48c3-829b-e63e74fa2776",
   "metadata": {
    "tags": []
   },
   "outputs": [
    {
     "data": {
      "text/plain": [
       "['Scoops', 'Spoon']"
      ]
     },
     "execution_count": 191,
     "metadata": {},
     "output_type": "execute_result"
    }
   ],
   "source": [
    "# A nested list is a list within a list\n",
    "# They are helpful if you want to create a matrix or need to store a sublist along with other data types\n",
    "\n",
    "# Create a nested list:\n",
    "\n",
    "nest_list = ['Vanilla', 3, ['Scoops','Spoon'],True]\n",
    "\n",
    "# Print a sublist:\n",
    "\n",
    "nest_list[2]"
   ]
  },
  {
   "cell_type": "code",
   "execution_count": 192,
   "id": "d28c0ac1-d3ed-4c60-aaeb-3c32e6c303ed",
   "metadata": {
    "tags": []
   },
   "outputs": [
    {
     "data": {
      "text/plain": [
       "'Spoon'"
      ]
     },
     "execution_count": 192,
     "metadata": {},
     "output_type": "execute_result"
    }
   ],
   "source": [
    "# Print an element within a sublist:\n",
    "\n",
    "nest_list[2][1]"
   ]
  },
  {
   "cell_type": "markdown",
   "id": "57af943d-3a80-4f6c-b084-00e85f381a5e",
   "metadata": {},
   "source": [
    "# 2. Tuple\n",
    "\n",
    "#### A tuple is a collection which is ordered, unchangeable, and allow duplicate values.\n",
    "#### Tuple items are indexed, the first item has index [0], the second item has index [1], etc."
   ]
  },
  {
   "cell_type": "code",
   "execution_count": 121,
   "id": "9b5a9bd2-7fdf-47c7-9a1c-960c8a2b49af",
   "metadata": {
    "tags": []
   },
   "outputs": [],
   "source": [
    "# Tuples are written within paranthesis, or round brackets:\n",
    "\n",
    "tuple_scopes = (1,2,3)"
   ]
  },
  {
   "cell_type": "code",
   "execution_count": 122,
   "id": "15f4d12d-aade-410e-a2c9-e7772f52715f",
   "metadata": {
    "tags": []
   },
   "outputs": [
    {
     "data": {
      "text/plain": [
       "tuple"
      ]
     },
     "execution_count": 122,
     "metadata": {},
     "output_type": "execute_result"
    }
   ],
   "source": [
    "# Print the data type of the tuple:\n",
    "\n",
    "type(tuple_scopes)"
   ]
  },
  {
   "cell_type": "code",
   "execution_count": 124,
   "id": "e1a846df-a721-4b68-ae79-3b0d0167f6eb",
   "metadata": {
    "tags": []
   },
   "outputs": [
    {
     "data": {
      "text/plain": [
       "(1, 2, 2, 3, 1, 4)"
      ]
     },
     "execution_count": 124,
     "metadata": {},
     "output_type": "execute_result"
    }
   ],
   "source": [
    "# Tuples allow duplicate values:\n",
    "\n",
    "tuple_scoopes = (1, 2, 2, 3, 1, 4)\n",
    "\n",
    "tuple_scoopes"
   ]
  },
  {
   "cell_type": "code",
   "execution_count": 125,
   "id": "6a59c033-d376-4789-a5c4-be26f0b92a89",
   "metadata": {
    "tags": []
   },
   "outputs": [
    {
     "data": {
      "text/plain": [
       "('chocolate', 14, False)"
      ]
     },
     "execution_count": 125,
     "metadata": {},
     "output_type": "execute_result"
    }
   ],
   "source": [
    "# Tuple items can be of any data type. \n",
    "# A tuple with strings, integers, and boolean:\n",
    "\n",
    "tuple2 = ('chocolate', 14, False)\n",
    "\n",
    "tuple2"
   ]
  },
  {
   "cell_type": "code",
   "execution_count": 194,
   "id": "c5709bdb-7097-4183-bfcd-af3250e73325",
   "metadata": {
    "tags": []
   },
   "outputs": [
    {
     "name": "stdout",
     "output_type": "stream",
     "text": [
      "('frog', 'hippo', 'lion')\n"
     ]
    }
   ],
   "source": [
    "# Once a tuple is created, you cannot change its values. Tuples are unchangeable, or immutable.\n",
    "# If changes need to be made, you can convert the tuple into a list, change the list, and then convert the list back into a tuple\n",
    "\n",
    "# Create the tuple:\n",
    "\n",
    "x = ('frog', 'monkey','lion')\n",
    "\n",
    "# Convert the tuple into a list:\n",
    "\n",
    "y = list(x)\n",
    "\n",
    "# Change index 1 of the list from monkey to hippo:\n",
    "\n",
    "y[1] = 'hippo'\n",
    "\n",
    "# Convert the updated list back to  a tuple:\n",
    "\n",
    "x = tuple(y)\n",
    "\n",
    "# Execute the tuple:\n",
    "\n",
    "print(x)"
   ]
  },
  {
   "cell_type": "code",
   "execution_count": 195,
   "id": "85209117-e222-48f8-bc41-bec5d5557866",
   "metadata": {
    "tags": []
   },
   "outputs": [
    {
     "data": {
      "text/plain": [
       "tuple"
      ]
     },
     "execution_count": 195,
     "metadata": {},
     "output_type": "execute_result"
    }
   ],
   "source": [
    "# Print the data type:\n",
    "type(x)"
   ]
  },
  {
   "cell_type": "markdown",
   "id": "df262b0e-9b73-46d1-95ec-a36afad419d7",
   "metadata": {},
   "source": [
    "# 3. Sets\n",
    "\n",
    "#### A set is a collection which is unordered, unchangeable, and unindexed.\n",
    "##### *Set items are unchangeable, but you can remove items and add new items.*\n",
    "#### Set items can appear in a different order every time you use them, and cannot be referred to by index or key."
   ]
  },
  {
   "cell_type": "code",
   "execution_count": 140,
   "id": "2a8ddb5a-7f66-4036-a9cc-e32447a20281",
   "metadata": {
    "tags": []
   },
   "outputs": [
    {
     "data": {
      "text/plain": [
       "{1, 2, 3}"
      ]
     },
     "execution_count": 140,
     "metadata": {},
     "output_type": "execute_result"
    }
   ],
   "source": [
    "# Sets are written within curly brackets:\n",
    "\n",
    "set_a = {1,2,3}\n",
    "\n",
    "# Execute the set:\n",
    "\n",
    "set_a"
   ]
  },
  {
   "cell_type": "code",
   "execution_count": 141,
   "id": "fd080553-2394-47da-8c02-7886aa2d3b86",
   "metadata": {
    "tags": []
   },
   "outputs": [
    {
     "data": {
      "text/plain": [
       "set"
      ]
     },
     "execution_count": 141,
     "metadata": {},
     "output_type": "execute_result"
    }
   ],
   "source": [
    "# Print data type of the set:\n",
    "\n",
    "type(set_a)"
   ]
  },
  {
   "cell_type": "code",
   "execution_count": 142,
   "id": "8d0fe019-e1c6-4888-9f6f-b7052cddf7f8",
   "metadata": {
    "tags": []
   },
   "outputs": [
    {
     "name": "stdout",
     "output_type": "stream",
     "text": [
      "{1, 2, 3, 4, 5, 6, 31}\n"
     ]
    }
   ],
   "source": [
    "# Sets cannot have two items with the same value\n",
    "# Duplicate values will be ignored:\n",
    "\n",
    "set_b = {1,2,31,2,3,4,1,2,5,6,3,2}\n",
    "print(set_b)"
   ]
  },
  {
   "cell_type": "code",
   "execution_count": 143,
   "id": "fdfacb20-9571-44fb-882d-94b6dd9242de",
   "metadata": {
    "tags": []
   },
   "outputs": [
    {
     "data": {
      "text/plain": [
       "{0, 2, True, 'lion', 'monkey'}"
      ]
     },
     "execution_count": 143,
     "metadata": {},
     "output_type": "execute_result"
    }
   ],
   "source": [
    "# The values True and 1 are considered the same value in sets and are treated as duplicates\n",
    "# The values False and 0 are also considered the same value in sets and treated as duplicates\n",
    "\n",
    "# Example:\n",
    "\n",
    "set_c = {'monkey', 'lion', True, 1, 0, 2, False, 1}\n",
    "\n",
    "# Execute:\n",
    "\n",
    "set_c"
   ]
  },
  {
   "cell_type": "code",
   "execution_count": 196,
   "id": "3de1d4a5-b988-4ce0-b934-a4aed7316604",
   "metadata": {
    "tags": []
   },
   "outputs": [
    {
     "data": {
      "text/plain": [
       "{14, 3, False, 'lion', 'male', 'monkey'}"
      ]
     },
     "execution_count": 196,
     "metadata": {},
     "output_type": "execute_result"
    }
   ],
   "source": [
    "# Set items can be of any data type. \n",
    "# A set with strings, integers, and boolean:\n",
    "\n",
    "set_d = {'monkey', 'lion', 3, False, 14, 'male'}\n",
    "\n",
    "# Execute:\n",
    "    \n",
    "set_d"
   ]
  },
  {
   "cell_type": "markdown",
   "id": "076816c3-0658-406e-9d8d-10550e0d20ed",
   "metadata": {
    "tags": []
   },
   "source": [
    "### A common use case for sets is to compare two sets to identify the common elements and differences between them by using various operations:\n",
    "> a. Intersection (&)\n",
    "\n",
    "> b. Union (|)\n",
    "\n",
    "> c. Difference (-)\n",
    "\n",
    "> d. Symmetric Difference (-)"
   ]
  },
  {
   "cell_type": "markdown",
   "id": "841414ee-051f-4ac0-a362-8ebb2d34e956",
   "metadata": {},
   "source": [
    "### a. Intersection (&)\n",
    "#### The intersecition between two sets, results in a third set that contains the elements that are common in both sets"
   ]
  },
  {
   "cell_type": "code",
   "execution_count": 146,
   "id": "78d4fcc8-2cd7-4ed0-ab0b-e1126ac1439e",
   "metadata": {
    "tags": []
   },
   "outputs": [],
   "source": [
    "set1 = {1, 2, 3, 4, 5}\n",
    "set2 = {3, 4, 5, 6, 7}"
   ]
  },
  {
   "cell_type": "code",
   "execution_count": 197,
   "id": "578cd9d9-add7-447a-8386-c4010197e7d5",
   "metadata": {
    "tags": []
   },
   "outputs": [
    {
     "name": "stdout",
     "output_type": "stream",
     "text": [
      "{3, 4, 5}\n"
     ]
    }
   ],
   "source": [
    "# Intersection (&):\n",
    "\n",
    "common_elements = (set1 & set2)\n",
    "# or equivalently\n",
    "common_elements = (set1.intersection(set2))\n",
    "\n",
    "# Execute:\n",
    "\n",
    "print(common_elements)"
   ]
  },
  {
   "cell_type": "markdown",
   "id": "53eb619d-fafc-456d-a136-7ff50464a19c",
   "metadata": {
    "tags": []
   },
   "source": [
    "### b. Union ( | )\n",
    "#### The union between two sets, results in a third set containing all unique elements from both sets."
   ]
  },
  {
   "cell_type": "code",
   "execution_count": 151,
   "id": "e43a4d78-a054-44a9-bec1-5dcdf56b32c7",
   "metadata": {
    "tags": []
   },
   "outputs": [
    {
     "name": "stdout",
     "output_type": "stream",
     "text": [
      "{1, 2, 3, 4, 5, 6, 7}\n"
     ]
    }
   ],
   "source": [
    "# Union (|):\n",
    "\n",
    "all_elements = set1 | set2\n",
    "# or equivalently\n",
    "all_elements = set1.union(set2)\n",
    "\n",
    "# Execute:\n",
    "\n",
    "print(all_elements)"
   ]
  },
  {
   "cell_type": "markdown",
   "id": "7be4a36f-b82e-4049-ba1d-8721cd9f37f1",
   "metadata": {
    "tags": []
   },
   "source": [
    "### c. Difference (-)\n",
    "#### The difference between two sets results in a third set containing elements that are in the first set but not in the second set."
   ]
  },
  {
   "cell_type": "code",
   "execution_count": 155,
   "id": "68ff2e18-d2cd-4df4-a8b9-7398f3e890a1",
   "metadata": {
    "tags": []
   },
   "outputs": [
    {
     "name": "stdout",
     "output_type": "stream",
     "text": [
      "{1, 2}\n"
     ]
    }
   ],
   "source": [
    "# Difference (-)\n",
    "\n",
    "difference_set1 = set1 - set2\n",
    "\n",
    "# Execute:\n",
    "\n",
    "print(difference_set1)"
   ]
  },
  {
   "cell_type": "code",
   "execution_count": null,
   "id": "61d7dd49-90f8-46a1-907d-21c677aec5a9",
   "metadata": {},
   "outputs": [],
   "source": [
    "# 1 and 2 are the only elements that are in set 1, but not in set 2"
   ]
  },
  {
   "cell_type": "code",
   "execution_count": 157,
   "id": "7b8463ec-77cd-4ee3-9d71-d998b63314aa",
   "metadata": {
    "tags": []
   },
   "outputs": [
    {
     "name": "stdout",
     "output_type": "stream",
     "text": [
      "{6, 7}\n"
     ]
    }
   ],
   "source": [
    "# This operation is NOT commutative. This means that the order in which you perform the difference operation matters and results differ depending on the order of the sets involved\n",
    "# A - B does not equal B - A\n",
    "# With that being said, to find the elements that are in set 2, but NOT in set 1, you must use:\n",
    "\n",
    "difference_set2 = set2 - set1\n",
    "\n",
    "# Execute\n",
    "\n",
    "print(difference_set2)"
   ]
  },
  {
   "cell_type": "code",
   "execution_count": null,
   "id": "d5d5e100-fc78-4548-968d-e026bc265b50",
   "metadata": {},
   "outputs": [],
   "source": [
    "# 6 and 7 are the only elements that are in set 2, but not in set 1"
   ]
  },
  {
   "cell_type": "markdown",
   "id": "7005f6f1-bf29-4044-8f07-55a9c9d90f91",
   "metadata": {},
   "source": [
    "### d. Symmetric Difference (^)\n",
    "#### The symmetric difference between two sets results in a third set containing elements that are unique to each set."
   ]
  },
  {
   "cell_type": "code",
   "execution_count": 158,
   "id": "85c3a632-36b8-401a-aa08-341bfc90d569",
   "metadata": {
    "tags": []
   },
   "outputs": [
    {
     "name": "stdout",
     "output_type": "stream",
     "text": [
      "{1, 2, 6, 7}\n"
     ]
    }
   ],
   "source": [
    "# Symmetric Difference (^)\n",
    "\n",
    "symmetric_difference = set1 ^ set2\n",
    "\n",
    "# Execute:\n",
    "\n",
    "print(symmetric_difference)"
   ]
  },
  {
   "cell_type": "markdown",
   "id": "9c1473ed-e384-47bf-9062-c67da42ed285",
   "metadata": {},
   "source": [
    "# 4. Dictionaries\n",
    "\n",
    "#### Used to store data values in key:value pairs\n",
    "#### A collection which is ordered, changeable, and do not allow duplicates\n",
    "##### *A colon (:) separates each key from its associated value*"
   ]
  },
  {
   "cell_type": "code",
   "execution_count": 198,
   "id": "36b58974-61fd-4d66-825b-6a7b36ca1e02",
   "metadata": {
    "tags": []
   },
   "outputs": [
    {
     "name": "stdout",
     "output_type": "stream",
     "text": [
      "{'name': 'Presley', 'weekly intake': 2, 'favorite ice creams': ['Chocolate', 'Cookie Dough']}\n"
     ]
    }
   ],
   "source": [
    "# Dictionaries are written within curly brackets\n",
    "# create and print a dictonary\n",
    "\n",
    "dict_ice = {'name': 'Presley', 'weekly intake': 2, 'favorite ice creams': ['Chocolate', 'Cookie Dough']}\n",
    "# 'favorite ice creams' is a list within the dictonary\n",
    "\n",
    "# Execute\n",
    "\n",
    "print(dict_ice)"
   ]
  },
  {
   "cell_type": "code",
   "execution_count": 199,
   "id": "99a0b17e-a949-4b7b-bc59-2101ff6bd378",
   "metadata": {
    "tags": []
   },
   "outputs": [
    {
     "data": {
      "text/plain": [
       "dict"
      ]
     },
     "execution_count": 199,
     "metadata": {},
     "output_type": "execute_result"
    }
   ],
   "source": [
    "# From Python's perspective, dictionaries are defined as objects with the data type 'dict':\n",
    "# Print the data type of a dictionary:\n",
    "\n",
    "type(dict_ice)"
   ]
  },
  {
   "cell_type": "code",
   "execution_count": 162,
   "id": "832a61a9-0452-4100-9e06-7ca100493ab0",
   "metadata": {
    "tags": []
   },
   "outputs": [
    {
     "data": {
      "text/plain": [
       "dict_values(['Presley', 2, ['Chocolate', 'Cookie Dough']])"
      ]
     },
     "execution_count": 162,
     "metadata": {},
     "output_type": "execute_result"
    }
   ],
   "source": [
    "# Values are the data associated with the keys in a dictionary.\n",
    "# Print the values of a dictionary:\n",
    "\n",
    "dict_ice.values()"
   ]
  },
  {
   "cell_type": "code",
   "execution_count": 163,
   "id": "60ebae5c-2878-428e-bb53-2f2e609e5aa8",
   "metadata": {
    "tags": []
   },
   "outputs": [
    {
     "data": {
      "text/plain": [
       "dict_keys(['name', 'weekly intake', 'favorite ice creams'])"
      ]
     },
     "execution_count": 163,
     "metadata": {},
     "output_type": "execute_result"
    }
   ],
   "source": [
    "# Keys are the unique identifiers for the values in a dictionary\n",
    "# Keys are used to access the corresponding values\n",
    "# Print the keys of a dictionary:\n",
    "\n",
    "dict_ice.keys()"
   ]
  },
  {
   "cell_type": "code",
   "execution_count": 164,
   "id": "eac65f5d-c1c7-4a3f-9d0c-e19a15ac76ed",
   "metadata": {
    "tags": []
   },
   "outputs": [
    {
     "data": {
      "text/plain": [
       "dict_items([('name', 'Presley'), ('weekly intake', 2), ('favorite ice creams', ['Chocolate', 'Cookie Dough'])])"
      ]
     },
     "execution_count": 164,
     "metadata": {},
     "output_type": "execute_result"
    }
   ],
   "source": [
    "# Item in a dictionary refer to the key-value pairs as a whole\n",
    "# Print the itesm of a dictionary:\n",
    "dict_ice.items()"
   ]
  },
  {
   "cell_type": "code",
   "execution_count": 82,
   "id": "f9500e87-5ccb-430c-9124-2ea828b7a9b7",
   "metadata": {
    "tags": []
   },
   "outputs": [
    {
     "data": {
      "text/plain": [
       "'Presley'"
      ]
     },
     "execution_count": 82,
     "metadata": {},
     "output_type": "execute_result"
    }
   ],
   "source": [
    "# Within dictionaires, you can't call values by the index. Instead, dictionary items can be referred to by using the key name\n",
    "\n",
    "dict_ice['name']"
   ]
  },
  {
   "cell_type": "code",
   "execution_count": 83,
   "id": "84963fca-57ef-45e8-afe5-16ebb13ca214",
   "metadata": {
    "tags": []
   },
   "outputs": [
    {
     "name": "stdout",
     "output_type": "stream",
     "text": [
      "{'name': 'Presley Schumacher', 'weekly intake': 2, 'favorite ice creams': ['Chocolate', 'Cookie Dough']}\n"
     ]
    }
   ],
   "source": [
    "# You can change the value of a specific item by referring to its key name\n",
    "# Update 'name' in the dictionary:\n",
    "\n",
    "dict_ice['name'] = 'Presley Schumacher'\n",
    "\n",
    "# Print dictionary with the updated information:\n",
    "\n",
    "print(dict_ice)"
   ]
  },
  {
   "cell_type": "code",
   "execution_count": 165,
   "id": "34d436a0-c2b5-42c3-8083-d2dfa89899ce",
   "metadata": {
    "tags": []
   },
   "outputs": [
    {
     "name": "stdout",
     "output_type": "stream",
     "text": [
      "{'name': 'Presley Schumacher', 'weekly intake': 2, 'favorite ice creams': ['Chocolate', 'Cookie Dough'], 'weight': 400}\n"
     ]
    }
   ],
   "source": [
    "# Using '.update' will update the dictionary with the items from a given argument. If the item does not exist, the item will be added.\n",
    "\n",
    "dict_ice.update({'name': 'Presley Schumacher', \n",
    "                 'weekly intake': 2, \n",
    "                 'weight': 400})\n",
    "\n",
    "# 'weight' does not exist in the original dictionary so it will be added                \n",
    "# Print the updated dictionary\n",
    "\n",
    "print(dict_ice)\n"
   ]
  },
  {
   "cell_type": "code",
   "execution_count": 166,
   "id": "89d09a24-fff3-46ec-a397-b95b87167787",
   "metadata": {
    "tags": []
   },
   "outputs": [
    {
     "name": "stdout",
     "output_type": "stream",
     "text": [
      "{'name': 'Presley Schumacher', 'weekly intake': 2, 'favorite ice creams': ['Chocolate', 'Cookie Dough']}\n"
     ]
    }
   ],
   "source": [
    "# The del keyword removes the item with the specified key name:\n",
    "\n",
    "del dict_ice['weight']\n",
    "\n",
    "# Execute:\n",
    "\n",
    "print(dict_ice)"
   ]
  }
 ],
 "metadata": {
  "kernelspec": {
   "display_name": "Python 3 (ipykernel)",
   "language": "python",
   "name": "python3"
  },
  "language_info": {
   "codemirror_mode": {
    "name": "ipython",
    "version": 3
   },
   "file_extension": ".py",
   "mimetype": "text/x-python",
   "name": "python",
   "nbconvert_exporter": "python",
   "pygments_lexer": "ipython3",
   "version": "3.10.8"
  }
 },
 "nbformat": 4,
 "nbformat_minor": 5
}
