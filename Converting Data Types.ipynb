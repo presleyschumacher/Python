{
 "cells": [
  {
   "cell_type": "markdown",
   "id": "b70c86a0-bf26-45ad-b599-a84c47cb6fa4",
   "metadata": {},
   "source": [
    "# Converting Data Types"
   ]
  },
  {
   "cell_type": "code",
   "execution_count": 11,
   "id": "89b2b5c0-733a-4e4f-8a55-c311061ca21a",
   "metadata": {
    "tags": []
   },
   "outputs": [
    {
     "data": {
      "text/plain": [
       "int"
      ]
     },
     "execution_count": 11,
     "metadata": {},
     "output_type": "execute_result"
    }
   ],
   "source": [
    "# Create an integer:\n",
    "\n",
    "a = 7\n",
    "\n",
    "# Print the type of the integer:\n",
    "\n",
    "type(a)"
   ]
  },
  {
   "cell_type": "code",
   "execution_count": 12,
   "id": "9947befe-ff5a-4f38-85d2-24bd0f3dfb92",
   "metadata": {
    "tags": []
   },
   "outputs": [
    {
     "data": {
      "text/plain": [
       "str"
      ]
     },
     "execution_count": 12,
     "metadata": {},
     "output_type": "execute_result"
    }
   ],
   "source": [
    "# Create a string:\n",
    "\n",
    "b = '7'\n",
    "\n",
    "# Print the type of the string:\n",
    "\n",
    "type(b)"
   ]
  },
  {
   "cell_type": "code",
   "execution_count": 13,
   "id": "20dec6bc-c94a-4d2d-a28e-9961748b23b8",
   "metadata": {
    "tags": []
   },
   "outputs": [
    {
     "ename": "TypeError",
     "evalue": "unsupported operand type(s) for +: 'int' and 'str'",
     "output_type": "error",
     "traceback": [
      "\u001b[0;31m---------------------------------------------------------------------------\u001b[0m",
      "\u001b[0;31mTypeError\u001b[0m                                 Traceback (most recent call last)",
      "Cell \u001b[0;32mIn[13], line 4\u001b[0m\n\u001b[1;32m      1\u001b[0m \u001b[38;5;66;03m# Add the integer and the string together\u001b[39;00m\n\u001b[1;32m      2\u001b[0m \u001b[38;5;66;03m# This will result in an error because you can't add an integer to a string\u001b[39;00m\n\u001b[0;32m----> 4\u001b[0m num_sum \u001b[38;5;241m=\u001b[39m \u001b[43ma\u001b[49m\u001b[43m \u001b[49m\u001b[38;5;241;43m+\u001b[39;49m\u001b[43m \u001b[49m\u001b[43mb\u001b[49m\n",
      "\u001b[0;31mTypeError\u001b[0m: unsupported operand type(s) for +: 'int' and 'str'"
     ]
    }
   ],
   "source": [
    "# Add the integer and the string together\n",
    "# This will result in an error because you can't add an integer to a string\n",
    "\n",
    "num_sum = a + b"
   ]
  },
  {
   "cell_type": "code",
   "execution_count": 14,
   "id": "b95d53ac-343f-4855-9a3a-2ea0f6b97bab",
   "metadata": {
    "tags": []
   },
   "outputs": [
    {
     "data": {
      "text/plain": [
       "int"
      ]
     },
     "execution_count": 14,
     "metadata": {},
     "output_type": "execute_result"
    }
   ],
   "source": [
    "# In order to add the values, we need to convert the string to an integer:\n",
    "\n",
    "new_b = int(b)\n",
    "\n",
    "# Confirm the type\n",
    "\n",
    "type(new_b)"
   ]
  },
  {
   "cell_type": "code",
   "execution_count": 15,
   "id": "8c4505f7-7b5c-4cfd-b74d-d71cc6eb5a1b",
   "metadata": {
    "tags": []
   },
   "outputs": [
    {
     "name": "stdout",
     "output_type": "stream",
     "text": [
      "14\n"
     ]
    }
   ],
   "source": [
    "# Now add the 2 integers together and print:\n",
    "\n",
    "num_sum = a + new_b\n",
    "\n",
    "print(num_sum)"
   ]
  },
  {
   "cell_type": "code",
   "execution_count": 28,
   "id": "7c64ed57-7369-46d9-8ea4-8066832ecd80",
   "metadata": {
    "tags": []
   },
   "outputs": [
    {
     "data": {
      "text/plain": [
       "list"
      ]
     },
     "execution_count": 28,
     "metadata": {},
     "output_type": "execute_result"
    }
   ],
   "source": [
    "# Convert List to Tuple\n",
    "\n",
    "# Create a list:\n",
    "\n",
    "list_1 = [1,2,3]\n",
    "\n",
    "# Confirm the type\n",
    "\n",
    "type(list_1)"
   ]
  },
  {
   "cell_type": "code",
   "execution_count": 29,
   "id": "f6ed9794-883f-4b27-8d47-c60fb61eb2fd",
   "metadata": {
    "tags": []
   },
   "outputs": [
    {
     "data": {
      "text/plain": [
       "tuple"
      ]
     },
     "execution_count": 29,
     "metadata": {},
     "output_type": "execute_result"
    }
   ],
   "source": [
    "# Convert List to Tuple\n",
    "\n",
    "tuple(list_1)\n",
    "\n",
    "# Confirm the type\n",
    "\n",
    "type(tuple(list_1))"
   ]
  },
  {
   "cell_type": "code",
   "execution_count": 1,
   "id": "79c6b228-b546-4add-895f-735cfd96c645",
   "metadata": {
    "tags": []
   },
   "outputs": [
    {
     "data": {
      "text/plain": [
       "dict"
      ]
     },
     "execution_count": 1,
     "metadata": {},
     "output_type": "execute_result"
    }
   ],
   "source": [
    "# Converting a Dictionary\n",
    "\n",
    "# Create a dictionary\n",
    "\n",
    "dict1 = {'farm': 'Pig', 'jungle': 'monkey', 'ocean': 'turtle'}\n",
    "\n",
    "# Confirm the type\n",
    "\n",
    "type(dict1)\n"
   ]
  },
  {
   "cell_type": "code",
   "execution_count": 2,
   "id": "b83f9af2-c803-4b84-b653-a38c994b2b9c",
   "metadata": {
    "tags": []
   },
   "outputs": [
    {
     "data": {
      "text/plain": [
       "dict_items([('farm', 'Pig'), ('jungle', 'monkey'), ('ocean', 'turtle')])"
      ]
     },
     "execution_count": 2,
     "metadata": {},
     "output_type": "execute_result"
    }
   ],
   "source": [
    "# Print the items of the dictionary\n",
    "\n",
    "dict1.items()"
   ]
  },
  {
   "cell_type": "code",
   "execution_count": 3,
   "id": "f427c795-798d-4583-84d2-48b4617eb791",
   "metadata": {
    "tags": []
   },
   "outputs": [
    {
     "data": {
      "text/plain": [
       "dict_values(['Pig', 'monkey', 'turtle'])"
      ]
     },
     "execution_count": 3,
     "metadata": {},
     "output_type": "execute_result"
    }
   ],
   "source": [
    "# Print the values of the dictionary\n",
    "\n",
    "dict1.values()"
   ]
  },
  {
   "cell_type": "code",
   "execution_count": 4,
   "id": "e9efd22d-d68e-4194-8c71-723dafed5efe",
   "metadata": {
    "tags": []
   },
   "outputs": [
    {
     "data": {
      "text/plain": [
       "dict_keys(['farm', 'jungle', 'ocean'])"
      ]
     },
     "execution_count": 4,
     "metadata": {},
     "output_type": "execute_result"
    }
   ],
   "source": [
    "# Print the keys of the dictionary\n",
    "\n",
    "dict1.keys()"
   ]
  },
  {
   "cell_type": "code",
   "execution_count": 6,
   "id": "e26cd508-2205-4417-9226-ccb922cf3eb5",
   "metadata": {
    "tags": []
   },
   "outputs": [
    {
     "name": "stdout",
     "output_type": "stream",
     "text": [
      "Original Dictionary: {'farm': 'Pig', 'jungle': 'monkey', 'ocean': 'turtle'}\n",
      "Keys as a List: ['farm', 'jungle', 'ocean']\n"
     ]
    }
   ],
   "source": [
    "# Convert the keys into a list\n",
    "\n",
    "keys_list = list(dict1.keys())\n",
    "\n",
    "# Display the result\n",
    "\n",
    "print(\"Original Dictionary:\", dict1)\n",
    "print(\"Keys as a List:\", keys_list)"
   ]
  },
  {
   "cell_type": "code",
   "execution_count": 9,
   "id": "40060401-2ffb-40dc-be5f-04a321bcda42",
   "metadata": {
    "tags": []
   },
   "outputs": [
    {
     "name": "stdout",
     "output_type": "stream",
     "text": [
      "Original Dictionary: {'farm': 'Pig', 'jungle': 'monkey', 'ocean': 'turtle'}\n",
      "Values as a List: ['Pig', 'monkey', 'turtle']\n"
     ]
    }
   ],
   "source": [
    "# Convert the values into a list\n",
    "\n",
    "values_list = list(dict1.values())\n",
    "\n",
    "# Display the result\n",
    "\n",
    "print('Original Dictionary:', dict1)\n",
    "print('Values as a List:', values_list)"
   ]
  },
  {
   "cell_type": "code",
   "execution_count": 11,
   "id": "f5a663df-44ea-4637-b796-0f27be8c2772",
   "metadata": {
    "tags": []
   },
   "outputs": [
    {
     "data": {
      "text/plain": [
       "list"
      ]
     },
     "execution_count": 11,
     "metadata": {},
     "output_type": "execute_result"
    }
   ],
   "source": [
    "# Confirm the type of the list of values\n",
    "\n",
    "type(values_list)\n"
   ]
  },
  {
   "cell_type": "code",
   "execution_count": 10,
   "id": "5cce5f41-57c7-4d12-b3e0-a71e7b4f46d9",
   "metadata": {
    "tags": []
   },
   "outputs": [
    {
     "name": "stdout",
     "output_type": "stream",
     "text": [
      "Original String: I like to dance\n",
      "String as a list: ['I', ' ', 'l', 'i', 'k', 'e', ' ', 't', 'o', ' ', 'd', 'a', 'n', 'c', 'e']\n"
     ]
    }
   ],
   "source": [
    "# Convert longer strings\n",
    "\n",
    "# Create a string\n",
    "\n",
    "str1 = 'I like to dance'\n",
    "\n",
    "# Convert the string to a list. The list will print all of the elements in the string.\n",
    "\n",
    "str_list = list(str1)\n",
    "\n",
    "# Display the results\n",
    "\n",
    "print('Original String:', str1)\n",
    "print('String as a list:', str_list)"
   ]
  },
  {
   "cell_type": "code",
   "execution_count": 12,
   "id": "0836e1cc-e1b2-4150-9462-d66d7cb61c3e",
   "metadata": {
    "tags": []
   },
   "outputs": [
    {
     "data": {
      "text/plain": [
       "list"
      ]
     },
     "execution_count": 12,
     "metadata": {},
     "output_type": "execute_result"
    }
   ],
   "source": [
    "# Confirm the type of the string list\n",
    "\n",
    "type(str_list)"
   ]
  },
  {
   "cell_type": "code",
   "execution_count": 13,
   "id": "b100ca22-ab41-4851-afbe-011d1f68e6a6",
   "metadata": {
    "tags": []
   },
   "outputs": [
    {
     "name": "stdout",
     "output_type": "stream",
     "text": [
      "Original string: I like to dance\n",
      "String as a set: {'d', ' ', 'a', 'l', 't', 'o', 'c', 'I', 'k', 'e', 'n', 'i'}\n"
     ]
    }
   ],
   "source": [
    "# Convert the same string into a set. \n",
    "# This will only print the unique values within the string\n",
    "\n",
    "str_set = set(str1)\n",
    "\n",
    "# Display the results\n",
    "\n",
    "print('Original string:', str1)\n",
    "print('String as a set:', str_set)"
   ]
  },
  {
   "cell_type": "code",
   "execution_count": 14,
   "id": "75f7a150-a8ac-4d45-93a4-d36cc9bda022",
   "metadata": {
    "tags": []
   },
   "outputs": [
    {
     "data": {
      "text/plain": [
       "set"
      ]
     },
     "execution_count": 14,
     "metadata": {},
     "output_type": "execute_result"
    }
   ],
   "source": [
    "# Confirm the type of the string list\n",
    "\n",
    "type(str_set)"
   ]
  },
  {
   "cell_type": "code",
   "execution_count": null,
   "id": "fe420278-6f91-48c1-9980-19af13b03f16",
   "metadata": {},
   "outputs": [],
   "source": []
  }
 ],
 "metadata": {
  "kernelspec": {
   "display_name": "Python 3 (ipykernel)",
   "language": "python",
   "name": "python3"
  },
  "language_info": {
   "codemirror_mode": {
    "name": "ipython",
    "version": 3
   },
   "file_extension": ".py",
   "mimetype": "text/x-python",
   "name": "python",
   "nbconvert_exporter": "python",
   "pygments_lexer": "ipython3",
   "version": "3.10.8"
  }
 },
 "nbformat": 4,
 "nbformat_minor": 5
}
